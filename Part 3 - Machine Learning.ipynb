{
 "cells": [
  {
   "cell_type": "code",
   "execution_count": 1,
   "metadata": {},
   "outputs": [],
   "source": [
    "import pandas as pd\n",
    "import numpy as np\n",
    "import matplotlib.pyplot as plt"
   ]
  },
  {
   "cell_type": "code",
   "execution_count": 2,
   "metadata": {},
   "outputs": [],
   "source": [
    "URL = (r'C:\\Users\\Shahabid\\Desktop\\NW IN Python Project\\Inp Data - first outcome.xlsx')\n",
    "inpatient = pd.read_excel (URL)"
   ]
  },
  {
   "cell_type": "code",
   "execution_count": 3,
   "metadata": {
    "scrolled": true
   },
   "outputs": [
    {
     "data": {
      "text/plain": [
       "(57196, 104)"
      ]
     },
     "execution_count": 3,
     "metadata": {},
     "output_type": "execute_result"
    }
   ],
   "source": [
    "inpatient.shape"
   ]
  },
  {
   "cell_type": "code",
   "execution_count": 4,
   "metadata": {},
   "outputs": [],
   "source": [
    "inpatient = inpatient.head(5000)"
   ]
  },
  {
   "cell_type": "code",
   "execution_count": 5,
   "metadata": {},
   "outputs": [
    {
     "data": {
      "text/plain": [
       "(5000, 104)"
      ]
     },
     "execution_count": 5,
     "metadata": {},
     "output_type": "execute_result"
    }
   ],
   "source": [
    "inpatient.shape"
   ]
  },
  {
   "cell_type": "code",
   "execution_count": 6,
   "metadata": {},
   "outputs": [
    {
     "data": {
      "text/plain": [
       "Index(['Unnamed: 0', 'Entity Code & Name', 'Patient Account Number',\n",
       "       'Patient Med Rec No', 'Patient Class Desc', 'Admit Date',\n",
       "       'Discharge Date', 'LOS Acute', 'LOS ICU', 'Patient Age',\n",
       "       ...\n",
       "       'ICD-10 DX Code 3presum', 'ICD-10 DX Code 4presum',\n",
       "       'ICD-10 DX Code 5presum', 'Any Presumptive Code', 'Presumptive',\n",
       "       'RIC_S2', 'Final_RIC_Desc', 'Final_RIC_Group', 'Counter', 'Count'],\n",
       "      dtype='object', length=104)"
      ]
     },
     "execution_count": 6,
     "metadata": {},
     "output_type": "execute_result"
    }
   ],
   "source": [
    "inpatient.columns"
   ]
  },
  {
   "cell_type": "code",
   "execution_count": 7,
   "metadata": {},
   "outputs": [],
   "source": [
    "def losICU(x):\n",
    "    if x==0:\n",
    "        x = 0\n",
    "    if 0 > x >= 3:\n",
    "        x = 1\n",
    "    if 4 > x :\n",
    "        x = 2\n",
    "\n",
    "inpatient['ICU'] = inpatient['LOS ICU'].apply(losICU)"
   ]
  },
  {
   "cell_type": "code",
   "execution_count": 8,
   "metadata": {},
   "outputs": [],
   "source": [
    "def dcdispcode(x):\n",
    "    if x=='Home':\n",
    "        x = 1\n",
    "    if x == 'LTACH':\n",
    "        x = 2\n",
    "    if x == 'HHA':\n",
    "        x = 3\n",
    "    if x == 'SNF':\n",
    "        x = 4\n",
    "    if x == 'IRF':\n",
    "        x = 5\n",
    "    if x == 'Other':\n",
    "        x = 6\n",
    "\n",
    "inpatient['DC_Code'] = inpatient['KHRS_Dc_Disp'].apply(dcdispcode)"
   ]
  },
  {
   "cell_type": "code",
   "execution_count": 9,
   "metadata": {},
   "outputs": [],
   "source": [
    "def KHRSPayorcode(x):\n",
    "    if x=='Charity':\n",
    "        x = 1\n",
    "    if x == 'Comm Mc':\n",
    "        x = 2\n",
    "    if x == 'MCR MC':\n",
    "        x = 3\n",
    "    if x == 'MCR':\n",
    "        x = 4\n",
    "    if x == 'MCD':\n",
    "        x = 5\n",
    "    if x == 'Gov Other':\n",
    "        x = 6\n",
    "    if x == 'Comm':\n",
    "        x = 7\n",
    "        \n",
    "inpatient['KHRS_Payor_code'] = inpatient['KHRS_Payor'].apply(KHRSPayorcode)"
   ]
  },
  {
   "cell_type": "code",
   "execution_count": 10,
   "metadata": {},
   "outputs": [],
   "source": [
    "inpatient.drop(['Unnamed: 0', 'Entity Code & Name', 'Financial Class Name','ICD-10-CM Prin Diag Code','ICD-10 DX Code 2', \n",
    "                'ICD-10 DX Code 3', 'ICD-10 DX Code 4', 'ICD-10 DX Code 5', 'ICD-10 DX Code 6','ICD-10 DX Code 7',\n",
    "                'ICD-10 DX Code 8', 'ICD-10 DX Code 9','ICD-10 DX Code 10','ICD-10 DX Code 11','ICD-10 DX Code 12','DRG_GMLOS',\n",
    "                'Patient Account Number', 'LOS Acute','Patient Med Rec No', 'Patient Class Desc', 'Admit Date','Discharge Date',\n",
    "                'Patient Zip', 'Final Destination Name', 'First Therpy Date-PT','First Therpy Date-OT','First Therpy Date-SLP',\n",
    "                'DC Date_YY-Q',  'DC Date_YY-MM', 'DC Date_YY','Payor_Key_main', 'MS-DRG Name', 'Product Line', 'DRG_MDC',\n",
    "                'Financial Class Name','Discharge Status Code','Prin Proc ICD-10-PCS CodePROC','ICD-10-PCS Code-2PROC', \n",
    "                'ICD-10-PCS Code-3PROC', 'ICD-10-PCS Code-4PROC', 'ICD-10-PCS Code-5PROC', 'MO', 'Comorbid', '90', 'TF1', \n",
    "                'TF2', '91', 'TF3', 'TF4', 'PROC', 'ICD-10-CM Prin Diag Code_RIC', 'ICD-10 DX Code 2_RIC', \n",
    "                'ICD-10 DX Code 3_RIC', 'ICD-10 DX Code 4_RIC', 'ICD-10 DX Code 5_RIC', 'RIC_99', 'RIC_S1a', 'RIC_S1b', \n",
    "                'ICD-10 DX Code 2presum', 'ICD-10 DX Code 3presum', 'ICD-10 DX Code 4presum', 'ICD-10 DX Code 5presum',\n",
    "                'Presumptive','Counter', 'Count','Final_RIC_Group','Final_RIC_Group','Primary Payor Plan Name',\n",
    "                'ICD-10-PCS Code-6', 'ICD-10-PCS Code-7', 'ICD-10-PCS Code-8', 'ICD-10-PCS Code-9', 'ICD-10-PCS Code-10',\n",
    "                'ICD-10-PCS Code-11', 'ICD-10-PCS Code-12','KHRS_Payor','Final_RIC_Desc' ], axis = 1, inplace=True)"
   ]
  },
  {
   "cell_type": "code",
   "execution_count": 11,
   "metadata": {},
   "outputs": [],
   "source": [
    "icd_DXandPX_list = ['Prin Proc ICD-10-PCS Code', 'ICD-10-PCS Code-2', 'ICD-10-PCS Code-3', 'ICD-10-PCS Code-4', 'ICD-10-PCS Code-5', \n",
    " 'ICD-10-CM Prin Diag Codev0', 'ICD-10 DX Code 2v0', 'ICD-10 DX Code 3v0', \n",
    " 'ICD-10 DX Code 4v0', 'ICD-10 DX Code 5v0', 'ICD-10 DX Code 6v0', 'ICD-10 DX Code 7v0', 'ICD-10 DX Code 8v0',\n",
    " 'ICD-10 DX Code 9v0', 'ICD-10 DX Code 10v0', 'ICD-10 DX Code 11v0', 'ICD-10 DX Code 12v0']\n",
    "\n",
    "for x in inpatient[icd_DXandPX_list]:\n",
    "        inpatient[x] = inpatient[x].astype(str)"
   ]
  },
  {
   "cell_type": "code",
   "execution_count": 12,
   "metadata": {},
   "outputs": [
    {
     "data": {
      "text/plain": [
       "Index(['LOS ICU', 'Patient Age', 'DRG Code', 'Prin Proc ICD-10-PCS Code',\n",
       "       'ICD-10-PCS Code-2', 'ICD-10-PCS Code-3', 'ICD-10-PCS Code-4',\n",
       "       'ICD-10-PCS Code-5', 'PT Eval', 'OT Eval', 'SLP  Eval', 'KHRS_LOS',\n",
       "       'KHRS_Dc_Disp', 'DRG_Weight', 'ICD-10-CM Prin Diag Codev0',\n",
       "       'ICD-10 DX Code 2v0', 'ICD-10 DX Code 3v0', 'ICD-10 DX Code 4v0',\n",
       "       'ICD-10 DX Code 5v0', 'ICD-10 DX Code 6v0', 'ICD-10 DX Code 7v0',\n",
       "       'ICD-10 DX Code 8v0', 'ICD-10 DX Code 9v0', 'ICD-10 DX Code 10v0',\n",
       "       'ICD-10 DX Code 11v0', 'ICD-10 DX Code 12v0', 'Age_85>',\n",
       "       'Any Presumptive Code', 'RIC_S2', 'ICU', 'DC_Code', 'KHRS_Payor_code'],\n",
       "      dtype='object')"
      ]
     },
     "execution_count": 12,
     "metadata": {},
     "output_type": "execute_result"
    }
   ],
   "source": [
    "inpatient.columns"
   ]
  },
  {
   "cell_type": "code",
   "execution_count": 13,
   "metadata": {},
   "outputs": [
    {
     "data": {
      "text/html": [
       "<div>\n",
       "<style scoped>\n",
       "    .dataframe tbody tr th:only-of-type {\n",
       "        vertical-align: middle;\n",
       "    }\n",
       "\n",
       "    .dataframe tbody tr th {\n",
       "        vertical-align: top;\n",
       "    }\n",
       "\n",
       "    .dataframe thead th {\n",
       "        text-align: right;\n",
       "    }\n",
       "</style>\n",
       "<table border=\"1\" class=\"dataframe\">\n",
       "  <thead>\n",
       "    <tr style=\"text-align: right;\">\n",
       "      <th></th>\n",
       "      <th>Prin Proc ICD-10-PCS Code</th>\n",
       "      <th>ICD-10-PCS Code-2</th>\n",
       "      <th>ICD-10-PCS Code-3</th>\n",
       "      <th>ICD-10-PCS Code-4</th>\n",
       "      <th>ICD-10-PCS Code-5</th>\n",
       "      <th>ICD-10-CM Prin Diag Codev0</th>\n",
       "      <th>ICD-10 DX Code 2v0</th>\n",
       "      <th>ICD-10 DX Code 3v0</th>\n",
       "      <th>ICD-10 DX Code 4v0</th>\n",
       "      <th>ICD-10 DX Code 5v0</th>\n",
       "      <th>ICD-10 DX Code 6v0</th>\n",
       "      <th>ICD-10 DX Code 7v0</th>\n",
       "      <th>ICD-10 DX Code 8v0</th>\n",
       "      <th>ICD-10 DX Code 9v0</th>\n",
       "      <th>ICD-10 DX Code 10v0</th>\n",
       "      <th>ICD-10 DX Code 11v0</th>\n",
       "      <th>ICD-10 DX Code 12v0</th>\n",
       "    </tr>\n",
       "  </thead>\n",
       "  <tbody>\n",
       "    <tr>\n",
       "      <td>0</td>\n",
       "      <td>0UT20ZZ</td>\n",
       "      <td>0UT40ZZ</td>\n",
       "      <td>0UT70ZZ</td>\n",
       "      <td>nan</td>\n",
       "      <td>nan</td>\n",
       "      <td>D25</td>\n",
       "      <td>D26</td>\n",
       "      <td>E03</td>\n",
       "      <td>Z79</td>\n",
       "      <td>nan</td>\n",
       "      <td>nan</td>\n",
       "      <td>nan</td>\n",
       "      <td>nan</td>\n",
       "      <td>nan</td>\n",
       "      <td>nan</td>\n",
       "      <td>nan</td>\n",
       "      <td>nan</td>\n",
       "    </tr>\n",
       "    <tr>\n",
       "      <td>1</td>\n",
       "      <td>07DR3ZX</td>\n",
       "      <td>07DR3ZX</td>\n",
       "      <td>02HV33Z</td>\n",
       "      <td>6A551Z3</td>\n",
       "      <td>02H633Z</td>\n",
       "      <td>C95</td>\n",
       "      <td>D61</td>\n",
       "      <td>J15</td>\n",
       "      <td>K56</td>\n",
       "      <td>K92</td>\n",
       "      <td>D63</td>\n",
       "      <td>R16</td>\n",
       "      <td>K76</td>\n",
       "      <td>E87</td>\n",
       "      <td>Z87</td>\n",
       "      <td>R04</td>\n",
       "      <td>K59</td>\n",
       "    </tr>\n",
       "    <tr>\n",
       "      <td>2</td>\n",
       "      <td>0DH64UZ</td>\n",
       "      <td>02HV33Z</td>\n",
       "      <td>nan</td>\n",
       "      <td>nan</td>\n",
       "      <td>nan</td>\n",
       "      <td>I82</td>\n",
       "      <td>J18</td>\n",
       "      <td>I25</td>\n",
       "      <td>E78</td>\n",
       "      <td>I11</td>\n",
       "      <td>I48</td>\n",
       "      <td>E11</td>\n",
       "      <td>Z79</td>\n",
       "      <td>Z86</td>\n",
       "      <td>Z87</td>\n",
       "      <td>I25</td>\n",
       "      <td>I82</td>\n",
       "    </tr>\n",
       "    <tr>\n",
       "      <td>3</td>\n",
       "      <td>0SRD069</td>\n",
       "      <td>3E0T3BZ</td>\n",
       "      <td>nan</td>\n",
       "      <td>nan</td>\n",
       "      <td>nan</td>\n",
       "      <td>M17</td>\n",
       "      <td>Z96</td>\n",
       "      <td>G47</td>\n",
       "      <td>E78</td>\n",
       "      <td>E78</td>\n",
       "      <td>Z85</td>\n",
       "      <td>Z87</td>\n",
       "      <td>Z79</td>\n",
       "      <td>nan</td>\n",
       "      <td>nan</td>\n",
       "      <td>nan</td>\n",
       "      <td>nan</td>\n",
       "    </tr>\n",
       "    <tr>\n",
       "      <td>4</td>\n",
       "      <td>047Q3ZZ</td>\n",
       "      <td>0JBR0ZZ</td>\n",
       "      <td>0JBR0ZZ</td>\n",
       "      <td>0JBR0ZZ</td>\n",
       "      <td>0JBR0ZZ</td>\n",
       "      <td>A41</td>\n",
       "      <td>I50</td>\n",
       "      <td>J96</td>\n",
       "      <td>G93</td>\n",
       "      <td>J18</td>\n",
       "      <td>I13</td>\n",
       "      <td>E87</td>\n",
       "      <td>N17</td>\n",
       "      <td>L03</td>\n",
       "      <td>L03</td>\n",
       "      <td>M86</td>\n",
       "      <td>E11</td>\n",
       "    </tr>\n",
       "    <tr>\n",
       "      <td>...</td>\n",
       "      <td>...</td>\n",
       "      <td>...</td>\n",
       "      <td>...</td>\n",
       "      <td>...</td>\n",
       "      <td>...</td>\n",
       "      <td>...</td>\n",
       "      <td>...</td>\n",
       "      <td>...</td>\n",
       "      <td>...</td>\n",
       "      <td>...</td>\n",
       "      <td>...</td>\n",
       "      <td>...</td>\n",
       "      <td>...</td>\n",
       "      <td>...</td>\n",
       "      <td>...</td>\n",
       "      <td>...</td>\n",
       "      <td>...</td>\n",
       "    </tr>\n",
       "    <tr>\n",
       "      <td>4995</td>\n",
       "      <td>0DB68ZX</td>\n",
       "      <td>0W3P8ZZ</td>\n",
       "      <td>0DJD8ZZ</td>\n",
       "      <td>nan</td>\n",
       "      <td>nan</td>\n",
       "      <td>D62</td>\n",
       "      <td>K92</td>\n",
       "      <td>K55</td>\n",
       "      <td>E11</td>\n",
       "      <td>I25</td>\n",
       "      <td>I48</td>\n",
       "      <td>D50</td>\n",
       "      <td>E78</td>\n",
       "      <td>I10</td>\n",
       "      <td>E03</td>\n",
       "      <td>H90</td>\n",
       "      <td>I44</td>\n",
       "    </tr>\n",
       "    <tr>\n",
       "      <td>4996</td>\n",
       "      <td>0JBL0ZZ</td>\n",
       "      <td>02HV33Z</td>\n",
       "      <td>0HDHXZZ</td>\n",
       "      <td>0HBHXZZ</td>\n",
       "      <td>nan</td>\n",
       "      <td>L89</td>\n",
       "      <td>J96</td>\n",
       "      <td>E44</td>\n",
       "      <td>Z68</td>\n",
       "      <td>B95</td>\n",
       "      <td>J44</td>\n",
       "      <td>F03</td>\n",
       "      <td>I25</td>\n",
       "      <td>M19</td>\n",
       "      <td>Z86</td>\n",
       "      <td>Z95</td>\n",
       "      <td>Z87</td>\n",
       "    </tr>\n",
       "    <tr>\n",
       "      <td>4997</td>\n",
       "      <td>0DB58ZX</td>\n",
       "      <td>0DB68ZX</td>\n",
       "      <td>nan</td>\n",
       "      <td>nan</td>\n",
       "      <td>nan</td>\n",
       "      <td>K92</td>\n",
       "      <td>K22</td>\n",
       "      <td>K29</td>\n",
       "      <td>K21</td>\n",
       "      <td>K25</td>\n",
       "      <td>I95</td>\n",
       "      <td>E86</td>\n",
       "      <td>G47</td>\n",
       "      <td>I25</td>\n",
       "      <td>M19</td>\n",
       "      <td>F32</td>\n",
       "      <td>E11</td>\n",
       "    </tr>\n",
       "    <tr>\n",
       "      <td>4998</td>\n",
       "      <td>0SG30AJ</td>\n",
       "      <td>00NY0ZZ</td>\n",
       "      <td>01NN0ZZ</td>\n",
       "      <td>01NB0ZZ</td>\n",
       "      <td>01NR0ZZ</td>\n",
       "      <td>M51</td>\n",
       "      <td>M51</td>\n",
       "      <td>E03</td>\n",
       "      <td>F17</td>\n",
       "      <td>nan</td>\n",
       "      <td>nan</td>\n",
       "      <td>nan</td>\n",
       "      <td>nan</td>\n",
       "      <td>nan</td>\n",
       "      <td>nan</td>\n",
       "      <td>nan</td>\n",
       "      <td>nan</td>\n",
       "    </tr>\n",
       "    <tr>\n",
       "      <td>4999</td>\n",
       "      <td>0QS804Z</td>\n",
       "      <td>nan</td>\n",
       "      <td>nan</td>\n",
       "      <td>nan</td>\n",
       "      <td>nan</td>\n",
       "      <td>S72</td>\n",
       "      <td>F02</td>\n",
       "      <td>I12</td>\n",
       "      <td>D46</td>\n",
       "      <td>N18</td>\n",
       "      <td>G40</td>\n",
       "      <td>D63</td>\n",
       "      <td>Q90</td>\n",
       "      <td>Z93</td>\n",
       "      <td>G31</td>\n",
       "      <td>nan</td>\n",
       "      <td>nan</td>\n",
       "    </tr>\n",
       "  </tbody>\n",
       "</table>\n",
       "<p>5000 rows × 17 columns</p>\n",
       "</div>"
      ],
      "text/plain": [
       "     Prin Proc ICD-10-PCS Code ICD-10-PCS Code-2 ICD-10-PCS Code-3  \\\n",
       "0                      0UT20ZZ           0UT40ZZ           0UT70ZZ   \n",
       "1                      07DR3ZX           07DR3ZX           02HV33Z   \n",
       "2                      0DH64UZ           02HV33Z               nan   \n",
       "3                      0SRD069           3E0T3BZ               nan   \n",
       "4                      047Q3ZZ           0JBR0ZZ           0JBR0ZZ   \n",
       "...                        ...               ...               ...   \n",
       "4995                   0DB68ZX           0W3P8ZZ           0DJD8ZZ   \n",
       "4996                   0JBL0ZZ           02HV33Z           0HDHXZZ   \n",
       "4997                   0DB58ZX           0DB68ZX               nan   \n",
       "4998                   0SG30AJ           00NY0ZZ           01NN0ZZ   \n",
       "4999                   0QS804Z               nan               nan   \n",
       "\n",
       "     ICD-10-PCS Code-4 ICD-10-PCS Code-5 ICD-10-CM Prin Diag Codev0  \\\n",
       "0                  nan               nan                        D25   \n",
       "1              6A551Z3           02H633Z                        C95   \n",
       "2                  nan               nan                        I82   \n",
       "3                  nan               nan                        M17   \n",
       "4              0JBR0ZZ           0JBR0ZZ                        A41   \n",
       "...                ...               ...                        ...   \n",
       "4995               nan               nan                        D62   \n",
       "4996           0HBHXZZ               nan                        L89   \n",
       "4997               nan               nan                        K92   \n",
       "4998           01NB0ZZ           01NR0ZZ                        M51   \n",
       "4999               nan               nan                        S72   \n",
       "\n",
       "     ICD-10 DX Code 2v0 ICD-10 DX Code 3v0 ICD-10 DX Code 4v0  \\\n",
       "0                   D26                E03                Z79   \n",
       "1                   D61                J15                K56   \n",
       "2                   J18                I25                E78   \n",
       "3                   Z96                G47                E78   \n",
       "4                   I50                J96                G93   \n",
       "...                 ...                ...                ...   \n",
       "4995                K92                K55                E11   \n",
       "4996                J96                E44                Z68   \n",
       "4997                K22                K29                K21   \n",
       "4998                M51                E03                F17   \n",
       "4999                F02                I12                D46   \n",
       "\n",
       "     ICD-10 DX Code 5v0 ICD-10 DX Code 6v0 ICD-10 DX Code 7v0  \\\n",
       "0                   nan                nan                nan   \n",
       "1                   K92                D63                R16   \n",
       "2                   I11                I48                E11   \n",
       "3                   E78                Z85                Z87   \n",
       "4                   J18                I13                E87   \n",
       "...                 ...                ...                ...   \n",
       "4995                I25                I48                D50   \n",
       "4996                B95                J44                F03   \n",
       "4997                K25                I95                E86   \n",
       "4998                nan                nan                nan   \n",
       "4999                N18                G40                D63   \n",
       "\n",
       "     ICD-10 DX Code 8v0 ICD-10 DX Code 9v0 ICD-10 DX Code 10v0  \\\n",
       "0                   nan                nan                 nan   \n",
       "1                   K76                E87                 Z87   \n",
       "2                   Z79                Z86                 Z87   \n",
       "3                   Z79                nan                 nan   \n",
       "4                   N17                L03                 L03   \n",
       "...                 ...                ...                 ...   \n",
       "4995                E78                I10                 E03   \n",
       "4996                I25                M19                 Z86   \n",
       "4997                G47                I25                 M19   \n",
       "4998                nan                nan                 nan   \n",
       "4999                Q90                Z93                 G31   \n",
       "\n",
       "     ICD-10 DX Code 11v0 ICD-10 DX Code 12v0  \n",
       "0                    nan                 nan  \n",
       "1                    R04                 K59  \n",
       "2                    I25                 I82  \n",
       "3                    nan                 nan  \n",
       "4                    M86                 E11  \n",
       "...                  ...                 ...  \n",
       "4995                 H90                 I44  \n",
       "4996                 Z95                 Z87  \n",
       "4997                 F32                 E11  \n",
       "4998                 nan                 nan  \n",
       "4999                 nan                 nan  \n",
       "\n",
       "[5000 rows x 17 columns]"
      ]
     },
     "execution_count": 13,
     "metadata": {},
     "output_type": "execute_result"
    }
   ],
   "source": [
    "inpatient.loc[:,['Prin Proc ICD-10-PCS Code', 'ICD-10-PCS Code-2', 'ICD-10-PCS Code-3', \n",
    "              'ICD-10-PCS Code-4','ICD-10-PCS Code-5', 'ICD-10-CM Prin Diag Codev0','ICD-10 DX Code 2v0', 'ICD-10 DX Code 3v0', 'ICD-10 DX Code 4v0',\n",
    "              'ICD-10 DX Code 5v0', 'ICD-10 DX Code 6v0', 'ICD-10 DX Code 7v0','ICD-10 DX Code 8v0', 'ICD-10 DX Code 9v0',\n",
    "              'ICD-10 DX Code 10v0', 'ICD-10 DX Code 11v0', 'ICD-10 DX Code 12v0']]"
   ]
  },
  {
   "cell_type": "code",
   "execution_count": 14,
   "metadata": {},
   "outputs": [],
   "source": [
    "def nanmanaged(x):\n",
    "    if x!='':\n",
    "        x = x\n",
    "    if x == '':\n",
    "        x = np.nan\n",
    "allcolumns = ['LOS ICU', 'Patient Age', 'DRG Code', 'Prin Proc ICD-10-PCS Code', 'ICD-10-PCS Code-2', 'ICD-10-PCS Code-3', \n",
    "              'ICD-10-PCS Code-4','ICD-10-PCS Code-5', 'PT Eval', 'OT Eval', 'SLP  Eval', 'KHRS_LOS', 'KHRS_Dc_Disp', \n",
    "              'DRG_Weight', 'ICD-10-CM Prin Diag Codev0','ICD-10 DX Code 2v0', 'ICD-10 DX Code 3v0', 'ICD-10 DX Code 4v0',\n",
    "              'ICD-10 DX Code 5v0', 'ICD-10 DX Code 6v0', 'ICD-10 DX Code 7v0','ICD-10 DX Code 8v0', 'ICD-10 DX Code 9v0',\n",
    "              'ICD-10 DX Code 10v0', 'ICD-10 DX Code 11v0', 'ICD-10 DX Code 12v0', 'Age_85>', 'Any Presumptive Code', \n",
    "              'RIC_S2', 'ICU', 'DC_Code', 'KHRS_Payor_code']\n",
    "for x in allcolumns:\n",
    "    inpatient[x] = inpatient[x].fillna(0)\n",
    "    \n",
    "    \n",
    "# for x in inpatient[allcolumns]:\n",
    "#         inpatient[x] = inpatient[x].astype(str)"
   ]
  },
  {
   "cell_type": "code",
   "execution_count": 15,
   "metadata": {},
   "outputs": [],
   "source": [
    "inpatient = pd.get_dummies(inpatient, columns=['Prin Proc ICD-10-PCS Code', 'ICD-10-PCS Code-2', 'ICD-10-PCS Code-3', 'ICD-10-PCS Code-4', 'ICD-10-PCS Code-5',\n",
    "                                               'ICD-10-CM Prin Diag Codev0', 'ICD-10 DX Code 2v0', 'ICD-10 DX Code 3v0', 'ICD-10 DX Code 4v0', 'ICD-10 DX Code 5v0',\n",
    "       'ICD-10 DX Code 6v0', 'ICD-10 DX Code 7v0', 'ICD-10 DX Code 8v0', 'ICD-10 DX Code 9v0', 'ICD-10 DX Code 10v0',\n",
    "       'ICD-10 DX Code 11v0', 'ICD-10 DX Code 12v0'])"
   ]
  },
  {
   "cell_type": "code",
   "execution_count": 33,
   "metadata": {},
   "outputs": [
    {
     "data": {
      "text/html": [
       "<div>\n",
       "<style scoped>\n",
       "    .dataframe tbody tr th:only-of-type {\n",
       "        vertical-align: middle;\n",
       "    }\n",
       "\n",
       "    .dataframe tbody tr th {\n",
       "        vertical-align: top;\n",
       "    }\n",
       "\n",
       "    .dataframe thead th {\n",
       "        text-align: right;\n",
       "    }\n",
       "</style>\n",
       "<table border=\"1\" class=\"dataframe\">\n",
       "  <thead>\n",
       "    <tr style=\"text-align: right;\">\n",
       "      <th></th>\n",
       "      <th>LOS ICU</th>\n",
       "      <th>Patient Age</th>\n",
       "      <th>DRG Code</th>\n",
       "      <th>PT Eval</th>\n",
       "      <th>OT Eval</th>\n",
       "      <th>SLP  Eval</th>\n",
       "      <th>KHRS_LOS</th>\n",
       "      <th>KHRS_Dc_Disp</th>\n",
       "      <th>DRG_Weight</th>\n",
       "      <th>Age_85&gt;</th>\n",
       "      <th>...</th>\n",
       "      <th>ICD-10 DX Code 12v0_Z90</th>\n",
       "      <th>ICD-10 DX Code 12v0_Z91</th>\n",
       "      <th>ICD-10 DX Code 12v0_Z92</th>\n",
       "      <th>ICD-10 DX Code 12v0_Z93</th>\n",
       "      <th>ICD-10 DX Code 12v0_Z94</th>\n",
       "      <th>ICD-10 DX Code 12v0_Z95</th>\n",
       "      <th>ICD-10 DX Code 12v0_Z96</th>\n",
       "      <th>ICD-10 DX Code 12v0_Z98</th>\n",
       "      <th>ICD-10 DX Code 12v0_Z99</th>\n",
       "      <th>ICD-10 DX Code 12v0_nan</th>\n",
       "    </tr>\n",
       "  </thead>\n",
       "  <tbody>\n",
       "    <tr>\n",
       "      <td>0</td>\n",
       "      <td>0.0</td>\n",
       "      <td>51</td>\n",
       "      <td>743.0</td>\n",
       "      <td>0</td>\n",
       "      <td>0</td>\n",
       "      <td>0</td>\n",
       "      <td>3</td>\n",
       "      <td>Home</td>\n",
       "      <td>1.1156</td>\n",
       "      <td>0</td>\n",
       "      <td>...</td>\n",
       "      <td>0</td>\n",
       "      <td>0</td>\n",
       "      <td>0</td>\n",
       "      <td>0</td>\n",
       "      <td>0</td>\n",
       "      <td>0</td>\n",
       "      <td>0</td>\n",
       "      <td>0</td>\n",
       "      <td>0</td>\n",
       "      <td>1</td>\n",
       "    </tr>\n",
       "    <tr>\n",
       "      <td>1</td>\n",
       "      <td>0.0</td>\n",
       "      <td>57</td>\n",
       "      <td>834.0</td>\n",
       "      <td>1</td>\n",
       "      <td>0</td>\n",
       "      <td>0</td>\n",
       "      <td>38</td>\n",
       "      <td>Home</td>\n",
       "      <td>5.5078</td>\n",
       "      <td>0</td>\n",
       "      <td>...</td>\n",
       "      <td>0</td>\n",
       "      <td>0</td>\n",
       "      <td>0</td>\n",
       "      <td>0</td>\n",
       "      <td>0</td>\n",
       "      <td>0</td>\n",
       "      <td>0</td>\n",
       "      <td>0</td>\n",
       "      <td>0</td>\n",
       "      <td>0</td>\n",
       "    </tr>\n",
       "    <tr>\n",
       "      <td>2</td>\n",
       "      <td>0.0</td>\n",
       "      <td>68</td>\n",
       "      <td>299.0</td>\n",
       "      <td>0</td>\n",
       "      <td>1</td>\n",
       "      <td>1</td>\n",
       "      <td>35</td>\n",
       "      <td>LTACH</td>\n",
       "      <td>1.4504</td>\n",
       "      <td>0</td>\n",
       "      <td>...</td>\n",
       "      <td>0</td>\n",
       "      <td>0</td>\n",
       "      <td>0</td>\n",
       "      <td>0</td>\n",
       "      <td>0</td>\n",
       "      <td>0</td>\n",
       "      <td>0</td>\n",
       "      <td>0</td>\n",
       "      <td>0</td>\n",
       "      <td>0</td>\n",
       "    </tr>\n",
       "    <tr>\n",
       "      <td>3</td>\n",
       "      <td>0.0</td>\n",
       "      <td>67</td>\n",
       "      <td>470.0</td>\n",
       "      <td>1</td>\n",
       "      <td>1</td>\n",
       "      <td>0</td>\n",
       "      <td>2</td>\n",
       "      <td>Home</td>\n",
       "      <td>1.9898</td>\n",
       "      <td>0</td>\n",
       "      <td>...</td>\n",
       "      <td>0</td>\n",
       "      <td>0</td>\n",
       "      <td>0</td>\n",
       "      <td>0</td>\n",
       "      <td>0</td>\n",
       "      <td>0</td>\n",
       "      <td>0</td>\n",
       "      <td>0</td>\n",
       "      <td>0</td>\n",
       "      <td>1</td>\n",
       "    </tr>\n",
       "    <tr>\n",
       "      <td>4</td>\n",
       "      <td>2.0</td>\n",
       "      <td>62</td>\n",
       "      <td>853.0</td>\n",
       "      <td>1</td>\n",
       "      <td>1</td>\n",
       "      <td>0</td>\n",
       "      <td>26</td>\n",
       "      <td>LTACH</td>\n",
       "      <td>5.0571</td>\n",
       "      <td>0</td>\n",
       "      <td>...</td>\n",
       "      <td>0</td>\n",
       "      <td>0</td>\n",
       "      <td>0</td>\n",
       "      <td>0</td>\n",
       "      <td>0</td>\n",
       "      <td>0</td>\n",
       "      <td>0</td>\n",
       "      <td>0</td>\n",
       "      <td>0</td>\n",
       "      <td>0</td>\n",
       "    </tr>\n",
       "  </tbody>\n",
       "</table>\n",
       "<p>5 rows × 7743 columns</p>\n",
       "</div>"
      ],
      "text/plain": [
       "   LOS ICU  Patient Age  DRG Code  PT Eval  OT Eval  SLP  Eval  KHRS_LOS  \\\n",
       "0      0.0           51     743.0        0        0          0         3   \n",
       "1      0.0           57     834.0        1        0          0        38   \n",
       "2      0.0           68     299.0        0        1          1        35   \n",
       "3      0.0           67     470.0        1        1          0         2   \n",
       "4      2.0           62     853.0        1        1          0        26   \n",
       "\n",
       "  KHRS_Dc_Disp  DRG_Weight  Age_85>  ...  ICD-10 DX Code 12v0_Z90  \\\n",
       "0         Home      1.1156        0  ...                        0   \n",
       "1         Home      5.5078        0  ...                        0   \n",
       "2        LTACH      1.4504        0  ...                        0   \n",
       "3         Home      1.9898        0  ...                        0   \n",
       "4        LTACH      5.0571        0  ...                        0   \n",
       "\n",
       "   ICD-10 DX Code 12v0_Z91  ICD-10 DX Code 12v0_Z92  ICD-10 DX Code 12v0_Z93  \\\n",
       "0                        0                        0                        0   \n",
       "1                        0                        0                        0   \n",
       "2                        0                        0                        0   \n",
       "3                        0                        0                        0   \n",
       "4                        0                        0                        0   \n",
       "\n",
       "   ICD-10 DX Code 12v0_Z94  ICD-10 DX Code 12v0_Z95  ICD-10 DX Code 12v0_Z96  \\\n",
       "0                        0                        0                        0   \n",
       "1                        0                        0                        0   \n",
       "2                        0                        0                        0   \n",
       "3                        0                        0                        0   \n",
       "4                        0                        0                        0   \n",
       "\n",
       "   ICD-10 DX Code 12v0_Z98  ICD-10 DX Code 12v0_Z99  ICD-10 DX Code 12v0_nan  \n",
       "0                        0                        0                        1  \n",
       "1                        0                        0                        0  \n",
       "2                        0                        0                        0  \n",
       "3                        0                        0                        1  \n",
       "4                        0                        0                        0  \n",
       "\n",
       "[5 rows x 7743 columns]"
      ]
     },
     "execution_count": 33,
     "metadata": {},
     "output_type": "execute_result"
    }
   ],
   "source": [
    "inpatient.head(5)"
   ]
  },
  {
   "cell_type": "code",
   "execution_count": 17,
   "metadata": {},
   "outputs": [
    {
     "data": {
      "text/plain": [
       "(5000, 7743)"
      ]
     },
     "execution_count": 17,
     "metadata": {},
     "output_type": "execute_result"
    }
   ],
   "source": [
    "inpatient.shape"
   ]
  },
  {
   "cell_type": "code",
   "execution_count": 18,
   "metadata": {},
   "outputs": [],
   "source": [
    "x = inpatient.drop('KHRS_Dc_Disp', axis = 1)\n",
    "y = inpatient[['KHRS_Dc_Disp']]"
   ]
  },
  {
   "cell_type": "code",
   "execution_count": 19,
   "metadata": {},
   "outputs": [],
   "source": [
    "# pd.plotting.scatter_matrix(x, c = y, figsize = [11,11], s = 150);"
   ]
  },
  {
   "cell_type": "markdown",
   "metadata": {},
   "source": [
    "# KNN Model"
   ]
  },
  {
   "cell_type": "code",
   "execution_count": 20,
   "metadata": {},
   "outputs": [],
   "source": [
    "from sklearn.neighbors import KNeighborsClassifier"
   ]
  },
  {
   "cell_type": "code",
   "execution_count": 21,
   "metadata": {},
   "outputs": [],
   "source": [
    "knn = KNeighborsClassifier(n_neighbors=5, metric = 'minkowski',  algorithm='auto', leaf_size=30, p=2,)\n",
    "# metrics could be Minkowski, Manhatan, Euclidean\n",
    "\n",
    "x = inpatient.drop('KHRS_Dc_Disp', axis = 1)\n",
    "y = inpatient[['KHRS_Dc_Disp']]\n",
    "\n"
   ]
  },
  {
   "cell_type": "code",
   "execution_count": 22,
   "metadata": {},
   "outputs": [
    {
     "name": "stderr",
     "output_type": "stream",
     "text": [
      "C:\\Users\\Shahabid\\AppData\\Local\\Continuum\\anaconda3\\lib\\site-packages\\ipykernel_launcher.py:1: DataConversionWarning: A column-vector y was passed when a 1d array was expected. Please change the shape of y to (n_samples, ), for example using ravel().\n",
      "  \"\"\"Entry point for launching an IPython kernel.\n"
     ]
    },
    {
     "data": {
      "text/plain": [
       "KNeighborsClassifier(algorithm='auto', leaf_size=30, metric='minkowski',\n",
       "                     metric_params=None, n_jobs=None, n_neighbors=5, p=2,\n",
       "                     weights='uniform')"
      ]
     },
     "execution_count": 22,
     "metadata": {},
     "output_type": "execute_result"
    }
   ],
   "source": [
    "knn.fit(x,y)"
   ]
  },
  {
   "cell_type": "code",
   "execution_count": 23,
   "metadata": {},
   "outputs": [],
   "source": [
    "from sklearn.model_selection import train_test_split"
   ]
  },
  {
   "cell_type": "code",
   "execution_count": 24,
   "metadata": {},
   "outputs": [],
   "source": [
    "x_train, x_test, y_train, y_test = train_test_split(x, y , test_size = 0.3, random_state = 42, stratify = y)"
   ]
  },
  {
   "cell_type": "code",
   "execution_count": 25,
   "metadata": {},
   "outputs": [
    {
     "data": {
      "text/plain": [
       "(3500, 7742)"
      ]
     },
     "execution_count": 25,
     "metadata": {},
     "output_type": "execute_result"
    }
   ],
   "source": [
    "x_train.shape"
   ]
  },
  {
   "cell_type": "code",
   "execution_count": 26,
   "metadata": {},
   "outputs": [
    {
     "name": "stderr",
     "output_type": "stream",
     "text": [
      "C:\\Users\\Shahabid\\AppData\\Local\\Continuum\\anaconda3\\lib\\site-packages\\ipykernel_launcher.py:2: DataConversionWarning: A column-vector y was passed when a 1d array was expected. Please change the shape of y to (n_samples, ), for example using ravel().\n",
      "  \n"
     ]
    },
    {
     "data": {
      "text/plain": [
       "array(['Home', 'HHA', 'HHA', ..., 'Home', 'Home', 'Home'], dtype=object)"
      ]
     },
     "execution_count": 26,
     "metadata": {},
     "output_type": "execute_result"
    }
   ],
   "source": [
    "knn = KNeighborsClassifier(n_neighbors=9)\n",
    "knn.fit(x_train, y_train)\n",
    "y_predict = knn.predict(x_test)\n",
    "y_predict"
   ]
  },
  {
   "cell_type": "code",
   "execution_count": 27,
   "metadata": {},
   "outputs": [
    {
     "data": {
      "text/plain": [
       "0.6053333333333333"
      ]
     },
     "execution_count": 27,
     "metadata": {},
     "output_type": "execute_result"
    }
   ],
   "source": [
    "knn.score(x_test, y_test)"
   ]
  },
  {
   "cell_type": "code",
   "execution_count": 28,
   "metadata": {},
   "outputs": [
    {
     "name": "stderr",
     "output_type": "stream",
     "text": [
      "C:\\Users\\Shahabid\\AppData\\Local\\Continuum\\anaconda3\\lib\\site-packages\\ipykernel_launcher.py:7: DataConversionWarning: A column-vector y was passed when a 1d array was expected. Please change the shape of y to (n_samples, ), for example using ravel().\n",
      "  import sys\n",
      "C:\\Users\\Shahabid\\AppData\\Local\\Continuum\\anaconda3\\lib\\site-packages\\ipykernel_launcher.py:7: DataConversionWarning: A column-vector y was passed when a 1d array was expected. Please change the shape of y to (n_samples, ), for example using ravel().\n",
      "  import sys\n",
      "C:\\Users\\Shahabid\\AppData\\Local\\Continuum\\anaconda3\\lib\\site-packages\\ipykernel_launcher.py:7: DataConversionWarning: A column-vector y was passed when a 1d array was expected. Please change the shape of y to (n_samples, ), for example using ravel().\n",
      "  import sys\n",
      "C:\\Users\\Shahabid\\AppData\\Local\\Continuum\\anaconda3\\lib\\site-packages\\ipykernel_launcher.py:7: DataConversionWarning: A column-vector y was passed when a 1d array was expected. Please change the shape of y to (n_samples, ), for example using ravel().\n",
      "  import sys\n",
      "C:\\Users\\Shahabid\\AppData\\Local\\Continuum\\anaconda3\\lib\\site-packages\\ipykernel_launcher.py:7: DataConversionWarning: A column-vector y was passed when a 1d array was expected. Please change the shape of y to (n_samples, ), for example using ravel().\n",
      "  import sys\n",
      "C:\\Users\\Shahabid\\AppData\\Local\\Continuum\\anaconda3\\lib\\site-packages\\ipykernel_launcher.py:7: DataConversionWarning: A column-vector y was passed when a 1d array was expected. Please change the shape of y to (n_samples, ), for example using ravel().\n",
      "  import sys\n",
      "C:\\Users\\Shahabid\\AppData\\Local\\Continuum\\anaconda3\\lib\\site-packages\\ipykernel_launcher.py:7: DataConversionWarning: A column-vector y was passed when a 1d array was expected. Please change the shape of y to (n_samples, ), for example using ravel().\n",
      "  import sys\n",
      "C:\\Users\\Shahabid\\AppData\\Local\\Continuum\\anaconda3\\lib\\site-packages\\ipykernel_launcher.py:7: DataConversionWarning: A column-vector y was passed when a 1d array was expected. Please change the shape of y to (n_samples, ), for example using ravel().\n",
      "  import sys\n",
      "C:\\Users\\Shahabid\\AppData\\Local\\Continuum\\anaconda3\\lib\\site-packages\\ipykernel_launcher.py:7: DataConversionWarning: A column-vector y was passed when a 1d array was expected. Please change the shape of y to (n_samples, ), for example using ravel().\n",
      "  import sys\n",
      "C:\\Users\\Shahabid\\AppData\\Local\\Continuum\\anaconda3\\lib\\site-packages\\ipykernel_launcher.py:7: DataConversionWarning: A column-vector y was passed when a 1d array was expected. Please change the shape of y to (n_samples, ), for example using ravel().\n",
      "  import sys\n",
      "C:\\Users\\Shahabid\\AppData\\Local\\Continuum\\anaconda3\\lib\\site-packages\\ipykernel_launcher.py:7: DataConversionWarning: A column-vector y was passed when a 1d array was expected. Please change the shape of y to (n_samples, ), for example using ravel().\n",
      "  import sys\n",
      "C:\\Users\\Shahabid\\AppData\\Local\\Continuum\\anaconda3\\lib\\site-packages\\ipykernel_launcher.py:7: DataConversionWarning: A column-vector y was passed when a 1d array was expected. Please change the shape of y to (n_samples, ), for example using ravel().\n",
      "  import sys\n",
      "C:\\Users\\Shahabid\\AppData\\Local\\Continuum\\anaconda3\\lib\\site-packages\\ipykernel_launcher.py:7: DataConversionWarning: A column-vector y was passed when a 1d array was expected. Please change the shape of y to (n_samples, ), for example using ravel().\n",
      "  import sys\n",
      "C:\\Users\\Shahabid\\AppData\\Local\\Continuum\\anaconda3\\lib\\site-packages\\ipykernel_launcher.py:7: DataConversionWarning: A column-vector y was passed when a 1d array was expected. Please change the shape of y to (n_samples, ), for example using ravel().\n",
      "  import sys\n",
      "C:\\Users\\Shahabid\\AppData\\Local\\Continuum\\anaconda3\\lib\\site-packages\\ipykernel_launcher.py:7: DataConversionWarning: A column-vector y was passed when a 1d array was expected. Please change the shape of y to (n_samples, ), for example using ravel().\n",
      "  import sys\n",
      "C:\\Users\\Shahabid\\AppData\\Local\\Continuum\\anaconda3\\lib\\site-packages\\ipykernel_launcher.py:7: DataConversionWarning: A column-vector y was passed when a 1d array was expected. Please change the shape of y to (n_samples, ), for example using ravel().\n",
      "  import sys\n",
      "C:\\Users\\Shahabid\\AppData\\Local\\Continuum\\anaconda3\\lib\\site-packages\\ipykernel_launcher.py:7: DataConversionWarning: A column-vector y was passed when a 1d array was expected. Please change the shape of y to (n_samples, ), for example using ravel().\n",
      "  import sys\n",
      "C:\\Users\\Shahabid\\AppData\\Local\\Continuum\\anaconda3\\lib\\site-packages\\ipykernel_launcher.py:7: DataConversionWarning: A column-vector y was passed when a 1d array was expected. Please change the shape of y to (n_samples, ), for example using ravel().\n",
      "  import sys\n",
      "C:\\Users\\Shahabid\\AppData\\Local\\Continuum\\anaconda3\\lib\\site-packages\\ipykernel_launcher.py:7: DataConversionWarning: A column-vector y was passed when a 1d array was expected. Please change the shape of y to (n_samples, ), for example using ravel().\n",
      "  import sys\n",
      "C:\\Users\\Shahabid\\AppData\\Local\\Continuum\\anaconda3\\lib\\site-packages\\ipykernel_launcher.py:7: DataConversionWarning: A column-vector y was passed when a 1d array was expected. Please change the shape of y to (n_samples, ), for example using ravel().\n",
      "  import sys\n",
      "C:\\Users\\Shahabid\\AppData\\Local\\Continuum\\anaconda3\\lib\\site-packages\\ipykernel_launcher.py:7: DataConversionWarning: A column-vector y was passed when a 1d array was expected. Please change the shape of y to (n_samples, ), for example using ravel().\n",
      "  import sys\n",
      "C:\\Users\\Shahabid\\AppData\\Local\\Continuum\\anaconda3\\lib\\site-packages\\ipykernel_launcher.py:7: DataConversionWarning: A column-vector y was passed when a 1d array was expected. Please change the shape of y to (n_samples, ), for example using ravel().\n",
      "  import sys\n",
      "C:\\Users\\Shahabid\\AppData\\Local\\Continuum\\anaconda3\\lib\\site-packages\\ipykernel_launcher.py:7: DataConversionWarning: A column-vector y was passed when a 1d array was expected. Please change the shape of y to (n_samples, ), for example using ravel().\n",
      "  import sys\n",
      "C:\\Users\\Shahabid\\AppData\\Local\\Continuum\\anaconda3\\lib\\site-packages\\ipykernel_launcher.py:7: DataConversionWarning: A column-vector y was passed when a 1d array was expected. Please change the shape of y to (n_samples, ), for example using ravel().\n",
      "  import sys\n",
      "C:\\Users\\Shahabid\\AppData\\Local\\Continuum\\anaconda3\\lib\\site-packages\\ipykernel_launcher.py:7: DataConversionWarning: A column-vector y was passed when a 1d array was expected. Please change the shape of y to (n_samples, ), for example using ravel().\n",
      "  import sys\n",
      "C:\\Users\\Shahabid\\AppData\\Local\\Continuum\\anaconda3\\lib\\site-packages\\ipykernel_launcher.py:7: DataConversionWarning: A column-vector y was passed when a 1d array was expected. Please change the shape of y to (n_samples, ), for example using ravel().\n",
      "  import sys\n",
      "C:\\Users\\Shahabid\\AppData\\Local\\Continuum\\anaconda3\\lib\\site-packages\\ipykernel_launcher.py:7: DataConversionWarning: A column-vector y was passed when a 1d array was expected. Please change the shape of y to (n_samples, ), for example using ravel().\n",
      "  import sys\n",
      "C:\\Users\\Shahabid\\AppData\\Local\\Continuum\\anaconda3\\lib\\site-packages\\ipykernel_launcher.py:7: DataConversionWarning: A column-vector y was passed when a 1d array was expected. Please change the shape of y to (n_samples, ), for example using ravel().\n",
      "  import sys\n",
      "C:\\Users\\Shahabid\\AppData\\Local\\Continuum\\anaconda3\\lib\\site-packages\\ipykernel_launcher.py:7: DataConversionWarning: A column-vector y was passed when a 1d array was expected. Please change the shape of y to (n_samples, ), for example using ravel().\n",
      "  import sys\n"
     ]
    },
    {
     "data": {
      "image/png": "[encoded data removed]",
      "text/plain": [
       "<Figure size 1080x432 with 1 Axes>"
      ]
     },
     "metadata": {
      "needs_background": "light"
     },
     "output_type": "display_data"
    }
   ],
   "source": [
    "neigburs = np.arange(1,30)\n",
    "train_accuracy = np.empty(len(neigburs))\n",
    "test_accuracy = np.empty(len(neigburs))\n",
    "\n",
    "for i, k in enumerate(neigburs):\n",
    "    knn_model = KNeighborsClassifier(n_neighbors=k)\n",
    "    knn_model.fit(x_train, y_train)\n",
    "    train_accuracy[i] = knn_model.score(x_train, y_train)\n",
    "    test_accuracy[i] = knn_model.score(x_test, y_test)\n",
    "    \n",
    "plt.figure(figsize=(15,6))\n",
    "plt.plot(neigburs, train_accuracy, label = 'train_accuracy' )\n",
    "plt.plot(neigburs, test_accuracy, label = 'test_accuracy' )\n",
    "plt.legend()\n",
    "plt.xlabel('No of Neighburs')\n",
    "plt.ylabel('Accuracy')\n",
    "plt.xticks(np.empty(len(neigburs)));\n"
   ]
  },
  {
   "cell_type": "markdown",
   "metadata": {},
   "source": [
    "# Decision Tree"
   ]
  },
  {
   "cell_type": "code",
   "execution_count": 29,
   "metadata": {},
   "outputs": [],
   "source": [
    "from sklearn.model_selection import train_test_split\n",
    "x_train, x_test, y_train, y_test = train_test_split(x, y , test_size = 0.3, random_state = 42, stratify = y)"
   ]
  },
  {
   "cell_type": "code",
   "execution_count": 30,
   "metadata": {},
   "outputs": [],
   "source": [
    "from sklearn.tree import DecisionTreeClassifier\n",
    "dtc = DecisionTreeClassifier()\n",
    "dtc.fit(x_train, y_train)\n",
    "predict_dtc = dtc.predict(x_test)"
   ]
  },
  {
   "cell_type": "code",
   "execution_count": 31,
   "metadata": {},
   "outputs": [],
   "source": [
    "from sklearn import metrics"
   ]
  },
  {
   "cell_type": "code",
   "execution_count": 32,
   "metadata": {},
   "outputs": [
    {
     "data": {
      "text/plain": [
       "0.5826666666666667"
      ]
     },
     "execution_count": 32,
     "metadata": {},
     "output_type": "execute_result"
    }
   ],
   "source": [
    "metrics.accuracy_score(y_test, predict_dtc)"
   ]
  },
  {
   "cell_type": "code",
   "execution_count": null,
   "metadata": {},
   "outputs": [],
   "source": []
  },
  {
   "cell_type": "code",
   "execution_count": null,
   "metadata": {},
   "outputs": [],
   "source": []
  }
 ],
 "metadata": {
  "kernelspec": {
   "display_name": "Python 3",
   "language": "python",
   "name": "python3"
  },
  "language_info": {
   "codemirror_mode": {
    "name": "ipython",
    "version": 3
   },
   "file_extension": ".py",
   "mimetype": "text/x-python",
   "name": "python",
   "nbconvert_exporter": "python",
   "pygments_lexer": "ipython3",
   "version": "3.7.4"
  }
 },
 "nbformat": 4,
 "nbformat_minor": 2
}
