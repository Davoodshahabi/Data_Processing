{
 "cells": [
  {
   "cell_type": "code",
   "execution_count": 1,
   "metadata": {},
   "outputs": [],
   "source": [
    "import pandas as pd\n",
    "import datetime\n",
    "import numpy as np\n",
    "import matplotlib.pyplot as plt\n",
    "import seaborn as sb"
   ]
  },
  {
   "cell_type": "code",
   "execution_count": 2,
   "metadata": {},
   "outputs": [],
   "source": [
    "URL = (r'C:\\Users\\shaha\\OneDrive\\Documents\\QlikView&Python_Project\\A_RowData\\Fac_Aute_Data.xlsx')\n",
    "data = pd.read_excel(URL ) #index_col=0)"
   ]
  },
  {
   "cell_type": "markdown",
   "metadata": {},
   "source": [
    "# Data Set Assessment"
   ]
  },
  {
   "cell_type": "code",
   "execution_count": 3,
   "metadata": {},
   "outputs": [
    {
     "data": {
      "text/html": [
       "<div>\n",
       "<style scoped>\n",
       "    .dataframe tbody tr th:only-of-type {\n",
       "        vertical-align: middle;\n",
       "    }\n",
       "\n",
       "    .dataframe tbody tr th {\n",
       "        vertical-align: top;\n",
       "    }\n",
       "\n",
       "    .dataframe thead th {\n",
       "        text-align: right;\n",
       "    }\n",
       "</style>\n",
       "<table border=\"1\" class=\"dataframe\">\n",
       "  <thead>\n",
       "    <tr style=\"text-align: right;\">\n",
       "      <th></th>\n",
       "      <th>Entity Code &amp; Name</th>\n",
       "      <th>Patient Account Number</th>\n",
       "      <th>Patient Med Rec No</th>\n",
       "      <th>Patient Class Desc</th>\n",
       "      <th>Admit Date</th>\n",
       "      <th>Discharge Date</th>\n",
       "      <th>LOS Acute</th>\n",
       "      <th>LOS ICU</th>\n",
       "      <th>Patient Age</th>\n",
       "      <th>Patient Zip</th>\n",
       "      <th>...</th>\n",
       "      <th>ICD-10-PCS Code-9</th>\n",
       "      <th>ICD-10-PCS Code-10</th>\n",
       "      <th>ICD-10-PCS Code-11</th>\n",
       "      <th>ICD-10-PCS Code-12</th>\n",
       "      <th>PT Eval</th>\n",
       "      <th>OT Eval</th>\n",
       "      <th>SLP  Eval</th>\n",
       "      <th>First Therpy Date-PT</th>\n",
       "      <th>First Therpy Date-OT</th>\n",
       "      <th>First Therpy Date-SLP</th>\n",
       "    </tr>\n",
       "  </thead>\n",
       "  <tbody>\n",
       "    <tr>\n",
       "      <th>0</th>\n",
       "      <td>Hospital A</td>\n",
       "      <td>A00AAAH95C</td>\n",
       "      <td>H003J8J9</td>\n",
       "      <td>Inpatient</td>\n",
       "      <td>2018-01-16</td>\n",
       "      <td>2018-01-19</td>\n",
       "      <td>3.0</td>\n",
       "      <td>NaN</td>\n",
       "      <td>51</td>\n",
       "      <td>92312.0</td>\n",
       "      <td>...</td>\n",
       "      <td>NaN</td>\n",
       "      <td>NaN</td>\n",
       "      <td>NaN</td>\n",
       "      <td>NaN</td>\n",
       "      <td>0</td>\n",
       "      <td>0</td>\n",
       "      <td>0</td>\n",
       "      <td>NaT</td>\n",
       "      <td>NaT</td>\n",
       "      <td>NaT</td>\n",
       "    </tr>\n",
       "    <tr>\n",
       "      <th>1</th>\n",
       "      <td>Hospital A</td>\n",
       "      <td>A00AA5HCED</td>\n",
       "      <td>H00084Z3</td>\n",
       "      <td>Inpatient</td>\n",
       "      <td>2017-11-26</td>\n",
       "      <td>2018-01-03</td>\n",
       "      <td>38.0</td>\n",
       "      <td>NaN</td>\n",
       "      <td>57</td>\n",
       "      <td>92408.0</td>\n",
       "      <td>...</td>\n",
       "      <td>NaN</td>\n",
       "      <td>NaN</td>\n",
       "      <td>NaN</td>\n",
       "      <td>NaN</td>\n",
       "      <td>1</td>\n",
       "      <td>0</td>\n",
       "      <td>0</td>\n",
       "      <td>2018-01-03</td>\n",
       "      <td>NaT</td>\n",
       "      <td>NaT</td>\n",
       "    </tr>\n",
       "    <tr>\n",
       "      <th>2</th>\n",
       "      <td>Hospital A</td>\n",
       "      <td>A00AA6HH5C</td>\n",
       "      <td>H0088ZX8</td>\n",
       "      <td>Inpatient</td>\n",
       "      <td>2017-12-04</td>\n",
       "      <td>2018-01-08</td>\n",
       "      <td>35.0</td>\n",
       "      <td>NaN</td>\n",
       "      <td>68</td>\n",
       "      <td>92375.0</td>\n",
       "      <td>...</td>\n",
       "      <td>NaN</td>\n",
       "      <td>NaN</td>\n",
       "      <td>NaN</td>\n",
       "      <td>NaN</td>\n",
       "      <td>0</td>\n",
       "      <td>1</td>\n",
       "      <td>1</td>\n",
       "      <td>NaT</td>\n",
       "      <td>2017-12-04</td>\n",
       "      <td>NaT</td>\n",
       "    </tr>\n",
       "  </tbody>\n",
       "</table>\n",
       "<p>3 rows × 45 columns</p>\n",
       "</div>"
      ],
      "text/plain": [
       "  Entity Code & Name Patient Account Number Patient Med Rec No  \\\n",
       "0         Hospital A             A00AAAH95C           H003J8J9   \n",
       "1         Hospital A             A00AA5HCED           H00084Z3   \n",
       "2         Hospital A             A00AA6HH5C           H0088ZX8   \n",
       "\n",
       "  Patient Class Desc Admit Date Discharge Date  LOS Acute  LOS ICU  \\\n",
       "0          Inpatient 2018-01-16     2018-01-19        3.0      NaN   \n",
       "1          Inpatient 2017-11-26     2018-01-03       38.0      NaN   \n",
       "2          Inpatient 2017-12-04     2018-01-08       35.0      NaN   \n",
       "\n",
       "   Patient Age  Patient Zip  ... ICD-10-PCS Code-9 ICD-10-PCS Code-10  \\\n",
       "0           51      92312.0  ...               NaN                NaN   \n",
       "1           57      92408.0  ...               NaN                NaN   \n",
       "2           68      92375.0  ...               NaN                NaN   \n",
       "\n",
       "   ICD-10-PCS Code-11  ICD-10-PCS Code-12 PT Eval OT Eval SLP  Eval  \\\n",
       "0                 NaN                 NaN       0       0         0   \n",
       "1                 NaN                 NaN       1       0         0   \n",
       "2                 NaN                 NaN       0       1         1   \n",
       "\n",
       "  First Therpy Date-PT First Therpy Date-OT First Therpy Date-SLP  \n",
       "0                  NaT                  NaT                   NaT  \n",
       "1           2018-01-03                  NaT                   NaT  \n",
       "2                  NaT           2017-12-04                   NaT  \n",
       "\n",
       "[3 rows x 45 columns]"
      ]
     },
     "execution_count": 3,
     "metadata": {},
     "output_type": "execute_result"
    }
   ],
   "source": [
    "data.head(3)"
   ]
  },
  {
   "cell_type": "code",
   "execution_count": 4,
   "metadata": {},
   "outputs": [
    {
     "data": {
      "text/plain": [
       "(66351, 45)"
      ]
     },
     "execution_count": 4,
     "metadata": {},
     "output_type": "execute_result"
    }
   ],
   "source": [
    "data.shape"
   ]
  },
  {
   "cell_type": "code",
   "execution_count": 5,
   "metadata": {},
   "outputs": [
    {
     "name": "stdout",
     "output_type": "stream",
     "text": [
      "<class 'pandas.core.frame.DataFrame'>\n",
      "RangeIndex: 66351 entries, 0 to 66350\n",
      "Data columns (total 45 columns):\n",
      " #   Column                     Non-Null Count  Dtype         \n",
      "---  ------                     --------------  -----         \n",
      " 0   Entity Code & Name         66351 non-null  object        \n",
      " 1   Patient Account Number     66351 non-null  object        \n",
      " 2   Patient Med Rec No         66351 non-null  object        \n",
      " 3   Patient Class Desc         66351 non-null  object        \n",
      " 4   Admit Date                 66351 non-null  datetime64[ns]\n",
      " 5   Discharge Date             66351 non-null  datetime64[ns]\n",
      " 6   LOS Acute                  64517 non-null  float64       \n",
      " 7   LOS ICU                    8666 non-null   float64       \n",
      " 8   Patient Age                66351 non-null  int64         \n",
      " 9   Patient Zip                66336 non-null  float64       \n",
      " 10  Financial Class Name       66351 non-null  object        \n",
      " 11  Primary Payor Plan Name    66351 non-null  object        \n",
      " 12  DRG Code                   66344 non-null  float64       \n",
      " 13  Discharge Status Code      66351 non-null  int64         \n",
      " 14  Final Destination Name     21041 non-null  object        \n",
      " 15  ICD-10-CM Prin Diag Code   66344 non-null  object        \n",
      " 16  ICD-10 DX Code 2           66132 non-null  object        \n",
      " 17  ICD-10 DX Code 3           65672 non-null  object        \n",
      " 18  ICD-10 DX Code 4           64385 non-null  object        \n",
      " 19  ICD-10 DX Code 5           62700 non-null  object        \n",
      " 20  ICD-10 DX Code 6           60716 non-null  object        \n",
      " 21  ICD-10 DX Code 7           58460 non-null  object        \n",
      " 22  ICD-10 DX Code 8           56234 non-null  object        \n",
      " 23  ICD-10 DX Code 9           53739 non-null  object        \n",
      " 24  ICD-10 DX Code 10          51020 non-null  object        \n",
      " 25  ICD-10 DX Code 11          48076 non-null  object        \n",
      " 26  ICD-10 DX Code 12          45066 non-null  object        \n",
      " 27  Prin Proc ICD-10-PCS Code  35660 non-null  object        \n",
      " 28  ICD-10-PCS Code-2          23618 non-null  object        \n",
      " 29  ICD-10-PCS Code-3          14887 non-null  object        \n",
      " 30  ICD-10-PCS Code-4          9455 non-null   object        \n",
      " 31  ICD-10-PCS Code-5          6033 non-null   object        \n",
      " 32  ICD-10-PCS Code-6          4034 non-null   object        \n",
      " 33  ICD-10-PCS Code-7          2764 non-null   object        \n",
      " 34  ICD-10-PCS Code-8          1944 non-null   object        \n",
      " 35  ICD-10-PCS Code-9          1419 non-null   object        \n",
      " 36  ICD-10-PCS Code-10         1048 non-null   object        \n",
      " 37  ICD-10-PCS Code-11         703 non-null    object        \n",
      " 38  ICD-10-PCS Code-12         495 non-null    object        \n",
      " 39  PT Eval                    66351 non-null  int64         \n",
      " 40  OT Eval                    66351 non-null  int64         \n",
      " 41  SLP  Eval                  66351 non-null  int64         \n",
      " 42  First Therpy Date-PT       31482 non-null  datetime64[ns]\n",
      " 43  First Therpy Date-OT       27832 non-null  datetime64[ns]\n",
      " 44  First Therpy Date-SLP      7020 non-null   datetime64[ns]\n",
      "dtypes: datetime64[ns](5), float64(4), int64(5), object(31)\n",
      "memory usage: 22.8+ MB\n"
     ]
    }
   ],
   "source": [
    "data.info()"
   ]
  },
  {
   "cell_type": "raw",
   "metadata": {},
   "source": [
    "The following ate a few observations;\n",
    "1) We have 66351 patient entries\n",
    "2) Almost 1900 patients do not have Acute LOS. This cohort of patients should be checked to ensure their conditions\n",
    "3) All dates are in an appropriate formate\n",
    "4) DRG code is not float64, should change to Category type (in next Phase)\n",
    "5) PT Eval, OT Eval, SLP Eval should be binary, not be int64 (in next Phase)"
   ]
  },
  {
   "cell_type": "code",
   "execution_count": 6,
   "metadata": {},
   "outputs": [
    {
     "data": {
      "text/html": [
       "<div>\n",
       "<style scoped>\n",
       "    .dataframe tbody tr th:only-of-type {\n",
       "        vertical-align: middle;\n",
       "    }\n",
       "\n",
       "    .dataframe tbody tr th {\n",
       "        vertical-align: top;\n",
       "    }\n",
       "\n",
       "    .dataframe thead th {\n",
       "        text-align: right;\n",
       "    }\n",
       "</style>\n",
       "<table border=\"1\" class=\"dataframe\">\n",
       "  <thead>\n",
       "    <tr style=\"text-align: right;\">\n",
       "      <th></th>\n",
       "      <th>LOS Acute</th>\n",
       "      <th>LOS ICU</th>\n",
       "      <th>Patient Age</th>\n",
       "      <th>Patient Zip</th>\n",
       "      <th>DRG Code</th>\n",
       "      <th>Discharge Status Code</th>\n",
       "      <th>PT Eval</th>\n",
       "      <th>OT Eval</th>\n",
       "      <th>SLP  Eval</th>\n",
       "    </tr>\n",
       "  </thead>\n",
       "  <tbody>\n",
       "    <tr>\n",
       "      <th>count</th>\n",
       "      <td>64517.000000</td>\n",
       "      <td>8666.000000</td>\n",
       "      <td>66351.000000</td>\n",
       "      <td>66336.000000</td>\n",
       "      <td>66344.000000</td>\n",
       "      <td>66351.000000</td>\n",
       "      <td>66351.000000</td>\n",
       "      <td>66351.000000</td>\n",
       "      <td>66351.000000</td>\n",
       "    </tr>\n",
       "    <tr>\n",
       "      <th>mean</th>\n",
       "      <td>5.027450</td>\n",
       "      <td>3.705862</td>\n",
       "      <td>64.659794</td>\n",
       "      <td>88631.551073</td>\n",
       "      <td>459.520062</td>\n",
       "      <td>8.478124</td>\n",
       "      <td>0.493512</td>\n",
       "      <td>0.426278</td>\n",
       "      <td>0.122817</td>\n",
       "    </tr>\n",
       "    <tr>\n",
       "      <th>std</th>\n",
       "      <td>4.420572</td>\n",
       "      <td>3.987477</td>\n",
       "      <td>18.834921</td>\n",
       "      <td>10545.414516</td>\n",
       "      <td>267.893463</td>\n",
       "      <td>17.759925</td>\n",
       "      <td>0.499962</td>\n",
       "      <td>0.494539</td>\n",
       "      <td>0.328229</td>\n",
       "    </tr>\n",
       "    <tr>\n",
       "      <th>min</th>\n",
       "      <td>0.000000</td>\n",
       "      <td>0.000000</td>\n",
       "      <td>0.000000</td>\n",
       "      <td>656.000000</td>\n",
       "      <td>1.000000</td>\n",
       "      <td>1.000000</td>\n",
       "      <td>0.000000</td>\n",
       "      <td>0.000000</td>\n",
       "      <td>0.000000</td>\n",
       "    </tr>\n",
       "    <tr>\n",
       "      <th>25%</th>\n",
       "      <td>2.000000</td>\n",
       "      <td>1.000000</td>\n",
       "      <td>55.000000</td>\n",
       "      <td>92312.000000</td>\n",
       "      <td>247.000000</td>\n",
       "      <td>1.000000</td>\n",
       "      <td>0.000000</td>\n",
       "      <td>0.000000</td>\n",
       "      <td>0.000000</td>\n",
       "    </tr>\n",
       "    <tr>\n",
       "      <th>50%</th>\n",
       "      <td>4.000000</td>\n",
       "      <td>2.000000</td>\n",
       "      <td>68.000000</td>\n",
       "      <td>92323.000000</td>\n",
       "      <td>392.000000</td>\n",
       "      <td>1.000000</td>\n",
       "      <td>0.000000</td>\n",
       "      <td>0.000000</td>\n",
       "      <td>0.000000</td>\n",
       "    </tr>\n",
       "    <tr>\n",
       "      <th>75%</th>\n",
       "      <td>7.000000</td>\n",
       "      <td>5.000000</td>\n",
       "      <td>78.000000</td>\n",
       "      <td>92375.000000</td>\n",
       "      <td>689.000000</td>\n",
       "      <td>6.000000</td>\n",
       "      <td>1.000000</td>\n",
       "      <td>1.000000</td>\n",
       "      <td>0.000000</td>\n",
       "    </tr>\n",
       "    <tr>\n",
       "      <th>max</th>\n",
       "      <td>91.000000</td>\n",
       "      <td>69.000000</td>\n",
       "      <td>112.000000</td>\n",
       "      <td>99141.000000</td>\n",
       "      <td>999.000000</td>\n",
       "      <td>95.000000</td>\n",
       "      <td>1.000000</td>\n",
       "      <td>1.000000</td>\n",
       "      <td>1.000000</td>\n",
       "    </tr>\n",
       "  </tbody>\n",
       "</table>\n",
       "</div>"
      ],
      "text/plain": [
       "          LOS Acute      LOS ICU   Patient Age   Patient Zip      DRG Code  \\\n",
       "count  64517.000000  8666.000000  66351.000000  66336.000000  66344.000000   \n",
       "mean       5.027450     3.705862     64.659794  88631.551073    459.520062   \n",
       "std        4.420572     3.987477     18.834921  10545.414516    267.893463   \n",
       "min        0.000000     0.000000      0.000000    656.000000      1.000000   \n",
       "25%        2.000000     1.000000     55.000000  92312.000000    247.000000   \n",
       "50%        4.000000     2.000000     68.000000  92323.000000    392.000000   \n",
       "75%        7.000000     5.000000     78.000000  92375.000000    689.000000   \n",
       "max       91.000000    69.000000    112.000000  99141.000000    999.000000   \n",
       "\n",
       "       Discharge Status Code       PT Eval       OT Eval     SLP  Eval  \n",
       "count           66351.000000  66351.000000  66351.000000  66351.000000  \n",
       "mean                8.478124      0.493512      0.426278      0.122817  \n",
       "std                17.759925      0.499962      0.494539      0.328229  \n",
       "min                 1.000000      0.000000      0.000000      0.000000  \n",
       "25%                 1.000000      0.000000      0.000000      0.000000  \n",
       "50%                 1.000000      0.000000      0.000000      0.000000  \n",
       "75%                 6.000000      1.000000      1.000000      0.000000  \n",
       "max                95.000000      1.000000      1.000000      1.000000  "
      ]
     },
     "execution_count": 6,
     "metadata": {},
     "output_type": "execute_result"
    }
   ],
   "source": [
    "data.describe()"
   ]
  },
  {
   "cell_type": "markdown",
   "metadata": {},
   "source": [
    "###### It seems we have pt with age 0 to 112 years old. We need to check it in more details and remove pt with age 0-16\n"
   ]
  },
  {
   "cell_type": "code",
   "execution_count": 7,
   "metadata": {},
   "outputs": [
    {
     "data": {
      "text/plain": [
       "66351"
      ]
     },
     "execution_count": 7,
     "metadata": {},
     "output_type": "execute_result"
    }
   ],
   "source": [
    "len(data.index)"
   ]
  },
  {
   "cell_type": "code",
   "execution_count": 8,
   "metadata": {},
   "outputs": [],
   "source": [
    "data = data.loc[data['Patient Age'] >=16,:]\n",
    "data['Patient Age'].min()\n",
    "data = data.loc[data['Patient Class Desc'] == 'Inpatient']"
   ]
  },
  {
   "cell_type": "code",
   "execution_count": 9,
   "metadata": {},
   "outputs": [
    {
     "data": {
      "text/plain": [
       "61145"
      ]
     },
     "execution_count": 9,
     "metadata": {},
     "output_type": "execute_result"
    }
   ],
   "source": [
    "len(data.index)"
   ]
  },
  {
   "cell_type": "code",
   "execution_count": 10,
   "metadata": {},
   "outputs": [
    {
     "data": {
      "text/plain": [
       "Hospital A    33445\n",
       "Hospital C    18918\n",
       "Hospital B     8782\n",
       "Name: Entity Code & Name, dtype: int64"
      ]
     },
     "execution_count": 10,
     "metadata": {},
     "output_type": "execute_result"
    }
   ],
   "source": [
    "data['Entity Code & Name'].value_counts().sort_values(ascending=False)"
   ]
  },
  {
   "cell_type": "raw",
   "metadata": {},
   "source": [
    "we have 3 hospitals' data. We need shorter name for each hospital for a better table design."
   ]
  },
  {
   "cell_type": "code",
   "execution_count": 11,
   "metadata": {},
   "outputs": [],
   "source": [
    "def new_hosp_name (x):\n",
    "    if x == 'Hospital A':\n",
    "        x = 'Hosp A'\n",
    "    elif x == 'Hospital B':\n",
    "        x = 'Hosp B'\n",
    "    elif x == 'Hospital C':\n",
    "        x = 'Hosp C'\n",
    "    return x\n",
    "\n",
    "data['Entity Code & Name'] = data['Entity Code & Name'].apply(new_hosp_name)"
   ]
  },
  {
   "cell_type": "code",
   "execution_count": 12,
   "metadata": {
    "scrolled": true
   },
   "outputs": [
    {
     "data": {
      "text/plain": [
       "Hosp A    33445\n",
       "Hosp C    18918\n",
       "Hosp B     8782\n",
       "Name: Entity Code & Name, dtype: int64"
      ]
     },
     "execution_count": 12,
     "metadata": {},
     "output_type": "execute_result"
    }
   ],
   "source": [
    "data['Entity Code & Name'].value_counts()"
   ]
  },
  {
   "cell_type": "raw",
   "metadata": {},
   "source": [
    "#Not Applicable for this project\n",
    "data['Admit Date']=((data['Admit Date'].str[:4])+ '/' + (data['Admit Date'].str[4:6])+ '/' + (data['Admit Date'].str[6:8]))\n",
    "data['Admit Date'] = pd.to_datetime(data['Admit Date'])"
   ]
  },
  {
   "cell_type": "raw",
   "metadata": {},
   "source": [
    "#Not Applicable for this project\n",
    "data['Discharge Date']=((data['Discharge Date'].str[:4])+ '/' + (data['Discharge Date'].str[4:6])+ '/' + (data['Discharge Date'].str[6:8]))\n",
    "data['Discharge Date'] = pd.to_datetime(data['Discharge Date'])"
   ]
  },
  {
   "cell_type": "code",
   "execution_count": 13,
   "metadata": {},
   "outputs": [],
   "source": [
    "# We need to get Y-Q, Y-M and Y for trend analysis;\n",
    "data['DC Date_YY-Q'] = (data['Discharge Date'].dt.year).astype(str) + \" Q\" +(data['Discharge Date'].dt.quarter ).astype(str)\n",
    "\n",
    "data['DC Date_YY-MM'] = (data['Discharge Date'].dt.year).astype(str) + \" \" +(data['Discharge Date'].dt.month ).astype(str)\n",
    "\n",
    "data['DC Date_YY'] = (data['Discharge Date'].dt.year).astype(str)"
   ]
  },
  {
   "cell_type": "code",
   "execution_count": 14,
   "metadata": {},
   "outputs": [],
   "source": [
    "# To calculate the LOS\n",
    "data[\"Calc_LOS\"] = (data['Discharge Date'] - data['Admit Date']).dt.days"
   ]
  },
  {
   "cell_type": "raw",
   "metadata": {},
   "source": [
    "#Not Applicable for this project. We need to keep this filed for further analysis;\n",
    "data = data.drop(['Principal Physician', 'PT Eval (y/n)', 'OT Eval (y/n)',\\\n",
    "'SLP Eval (y/n)', 'Initial Therapy Eval Date', 'Unnamed: 42'], axis = 1)"
   ]
  },
  {
   "cell_type": "code",
   "execution_count": 15,
   "metadata": {},
   "outputs": [
    {
     "data": {
      "text/plain": [
       "Index(['Entity Code & Name', 'Patient Account Number', 'Patient Med Rec No',\n",
       "       'Patient Class Desc', 'Admit Date', 'Discharge Date', 'LOS Acute',\n",
       "       'LOS ICU', 'Patient Age', 'Patient Zip', 'Financial Class Name',\n",
       "       'Primary Payor Plan Name', 'DRG Code', 'Discharge Status Code',\n",
       "       'Final Destination Name', 'ICD-10-CM Prin Diag Code',\n",
       "       'ICD-10 DX Code 2', 'ICD-10 DX Code 3', 'ICD-10 DX Code 4',\n",
       "       'ICD-10 DX Code 5', 'ICD-10 DX Code 6', 'ICD-10 DX Code 7',\n",
       "       'ICD-10 DX Code 8', 'ICD-10 DX Code 9', 'ICD-10 DX Code 10',\n",
       "       'ICD-10 DX Code 11', 'ICD-10 DX Code 12', 'Prin Proc ICD-10-PCS Code',\n",
       "       'ICD-10-PCS Code-2', 'ICD-10-PCS Code-3', 'ICD-10-PCS Code-4',\n",
       "       'ICD-10-PCS Code-5', 'ICD-10-PCS Code-6', 'ICD-10-PCS Code-7',\n",
       "       'ICD-10-PCS Code-8', 'ICD-10-PCS Code-9', 'ICD-10-PCS Code-10',\n",
       "       'ICD-10-PCS Code-11', 'ICD-10-PCS Code-12', 'PT Eval', 'OT Eval',\n",
       "       'SLP  Eval', 'First Therpy Date-PT', 'First Therpy Date-OT',\n",
       "       'First Therpy Date-SLP', 'DC Date_YY-Q', 'DC Date_YY-MM', 'DC Date_YY',\n",
       "       'Calc_LOS'],\n",
       "      dtype='object')"
      ]
     },
     "execution_count": 15,
     "metadata": {},
     "output_type": "execute_result"
    }
   ],
   "source": [
    "data.columns"
   ]
  },
  {
   "cell_type": "markdown",
   "metadata": {},
   "source": [
    "# Cleaning the Name of Payors(Version1 - Assign KHRS Name)"
   ]
  },
  {
   "cell_type": "code",
   "execution_count": 16,
   "metadata": {},
   "outputs": [
    {
     "data": {
      "text/plain": [
       "8"
      ]
     },
     "execution_count": 16,
     "metadata": {},
     "output_type": "execute_result"
    }
   ],
   "source": [
    "data['Financial Class Name'].nunique()"
   ]
  },
  {
   "cell_type": "code",
   "execution_count": 17,
   "metadata": {},
   "outputs": [
    {
     "data": {
      "text/plain": [
       "178"
      ]
     },
     "execution_count": 17,
     "metadata": {},
     "output_type": "execute_result"
    }
   ],
   "source": [
    "data['Primary Payor Plan Name'].nunique()"
   ]
  },
  {
   "cell_type": "code",
   "execution_count": 18,
   "metadata": {},
   "outputs": [
    {
     "data": {
      "text/html": [
       "<div>\n",
       "<style scoped>\n",
       "    .dataframe tbody tr th:only-of-type {\n",
       "        vertical-align: middle;\n",
       "    }\n",
       "\n",
       "    .dataframe tbody tr th {\n",
       "        vertical-align: top;\n",
       "    }\n",
       "\n",
       "    .dataframe thead th {\n",
       "        text-align: right;\n",
       "    }\n",
       "</style>\n",
       "<table border=\"1\" class=\"dataframe\">\n",
       "  <thead>\n",
       "    <tr style=\"text-align: right;\">\n",
       "      <th></th>\n",
       "      <th>Financial Class Name</th>\n",
       "      <th>Primary Payor Plan Name</th>\n",
       "      <th>Pt Count</th>\n",
       "      <th>Avd Age</th>\n",
       "    </tr>\n",
       "  </thead>\n",
       "  <tbody>\n",
       "    <tr>\n",
       "      <th>0</th>\n",
       "      <td>Charity</td>\n",
       "      <td>CHARITY 100% APPROVED</td>\n",
       "      <td>275</td>\n",
       "      <td>50.469091</td>\n",
       "    </tr>\n",
       "    <tr>\n",
       "      <th>1</th>\n",
       "      <td>Charity</td>\n",
       "      <td>CHARITY</td>\n",
       "      <td>127</td>\n",
       "      <td>42.181102</td>\n",
       "    </tr>\n",
       "    <tr>\n",
       "      <th>2</th>\n",
       "      <td>Charity</td>\n",
       "      <td>CHARITY PENDING</td>\n",
       "      <td>107</td>\n",
       "      <td>47.214953</td>\n",
       "    </tr>\n",
       "    <tr>\n",
       "      <th>3</th>\n",
       "      <td>Charity</td>\n",
       "      <td>CHARITY PARTIAL APPROVAL</td>\n",
       "      <td>62</td>\n",
       "      <td>51.532258</td>\n",
       "    </tr>\n",
       "    <tr>\n",
       "      <th>4</th>\n",
       "      <td>Charity</td>\n",
       "      <td>BANKRUPTCY PATIENT</td>\n",
       "      <td>4</td>\n",
       "      <td>54.500000</td>\n",
       "    </tr>\n",
       "    <tr>\n",
       "      <th>...</th>\n",
       "      <td>...</td>\n",
       "      <td>...</td>\n",
       "      <td>...</td>\n",
       "      <td>...</td>\n",
       "    </tr>\n",
       "    <tr>\n",
       "      <th>173</th>\n",
       "      <td>Medicare</td>\n",
       "      <td>BX IL MEDICARE ADVANTAGE MMAI</td>\n",
       "      <td>52</td>\n",
       "      <td>64.653846</td>\n",
       "    </tr>\n",
       "    <tr>\n",
       "      <th>174</th>\n",
       "      <td>Medicare</td>\n",
       "      <td>CIGNA HEALTHSPRING M</td>\n",
       "      <td>17</td>\n",
       "      <td>69.352941</td>\n",
       "    </tr>\n",
       "    <tr>\n",
       "      <th>175</th>\n",
       "      <td>Medicare</td>\n",
       "      <td>WELLCARE MEDICARE ADVANTAGE M</td>\n",
       "      <td>13</td>\n",
       "      <td>71.769231</td>\n",
       "    </tr>\n",
       "    <tr>\n",
       "      <th>176</th>\n",
       "      <td>Medicare</td>\n",
       "      <td>MEDICARE HUMANA GOLD CHOICE PFFS M</td>\n",
       "      <td>7</td>\n",
       "      <td>76.857143</td>\n",
       "    </tr>\n",
       "    <tr>\n",
       "      <th>177</th>\n",
       "      <td>Self-pay</td>\n",
       "      <td>SELF-PAY</td>\n",
       "      <td>495</td>\n",
       "      <td>43.583838</td>\n",
       "    </tr>\n",
       "  </tbody>\n",
       "</table>\n",
       "<p>178 rows × 4 columns</p>\n",
       "</div>"
      ],
      "text/plain": [
       "    Financial Class Name             Primary Payor Plan Name  Pt Count  \\\n",
       "0                Charity               CHARITY 100% APPROVED       275   \n",
       "1                Charity                             CHARITY       127   \n",
       "2                Charity                     CHARITY PENDING       107   \n",
       "3                Charity            CHARITY PARTIAL APPROVAL        62   \n",
       "4                Charity                  BANKRUPTCY PATIENT         4   \n",
       "..                   ...                                 ...       ...   \n",
       "173             Medicare       BX IL MEDICARE ADVANTAGE MMAI        52   \n",
       "174             Medicare                CIGNA HEALTHSPRING M        17   \n",
       "175             Medicare       WELLCARE MEDICARE ADVANTAGE M        13   \n",
       "176             Medicare  MEDICARE HUMANA GOLD CHOICE PFFS M         7   \n",
       "177             Self-pay                            SELF-PAY       495   \n",
       "\n",
       "       Avd Age  \n",
       "0    50.469091  \n",
       "1    42.181102  \n",
       "2    47.214953  \n",
       "3    51.532258  \n",
       "4    54.500000  \n",
       "..         ...  \n",
       "173  64.653846  \n",
       "174  69.352941  \n",
       "175  71.769231  \n",
       "176  76.857143  \n",
       "177  43.583838  \n",
       "\n",
       "[178 rows x 4 columns]"
      ]
     },
     "execution_count": 18,
     "metadata": {},
     "output_type": "execute_result"
    }
   ],
   "source": [
    "Payor = data.groupby(by=['Financial Class Name', 'Primary Payor Plan Name']).agg({'Patient Account Number':'size','Patient Age':'mean'})\\\n",
    ".rename(columns={'Patient Account Number': 'Pt Count', 'Patient Age': 'Avd Age'}).sort_values(by=['Financial Class Name','Pt Count'], ascending=(True,False)).reset_index()\n",
    "Payor"
   ]
  },
  {
   "cell_type": "code",
   "execution_count": 19,
   "metadata": {},
   "outputs": [],
   "source": [
    "Payor.to_excel(r'C:\\Users\\shaha\\OneDrive\\Documents\\QlikView&Python_Project\\Python Project\\payor_list.xlsx', index=False)"
   ]
  },
  {
   "cell_type": "code",
   "execution_count": 20,
   "metadata": {},
   "outputs": [],
   "source": [
    "KHRS_Payor = pd.read_excel(r'C:\\Users\\shaha\\OneDrive\\Documents\\QlikView&Python_Project\\Python Project\\KHRS_Payor.xlsx', index=False).reset_index(drop=True)"
   ]
  },
  {
   "cell_type": "code",
   "execution_count": 21,
   "metadata": {},
   "outputs": [],
   "source": [
    "KHRS_Payor['Payor_key_Crosswalk'] = KHRS_Payor['Financial Class Name']+'|'+KHRS_Payor['Primary Payor Plan Name']"
   ]
  },
  {
   "cell_type": "code",
   "execution_count": 22,
   "metadata": {},
   "outputs": [
    {
     "data": {
      "text/html": [
       "<div>\n",
       "<style scoped>\n",
       "    .dataframe tbody tr th:only-of-type {\n",
       "        vertical-align: middle;\n",
       "    }\n",
       "\n",
       "    .dataframe tbody tr th {\n",
       "        vertical-align: top;\n",
       "    }\n",
       "\n",
       "    .dataframe thead th {\n",
       "        text-align: right;\n",
       "    }\n",
       "</style>\n",
       "<table border=\"1\" class=\"dataframe\">\n",
       "  <thead>\n",
       "    <tr style=\"text-align: right;\">\n",
       "      <th></th>\n",
       "      <th>KHRS_Payor</th>\n",
       "      <th>Payor_key_Crosswalk</th>\n",
       "    </tr>\n",
       "  </thead>\n",
       "  <tbody>\n",
       "    <tr>\n",
       "      <th>0</th>\n",
       "      <td>Other</td>\n",
       "      <td>Charity|BANKRUPTCY PATIENT</td>\n",
       "    </tr>\n",
       "    <tr>\n",
       "      <th>1</th>\n",
       "      <td>Other</td>\n",
       "      <td>Charity|CHARITY</td>\n",
       "    </tr>\n",
       "    <tr>\n",
       "      <th>2</th>\n",
       "      <td>Other</td>\n",
       "      <td>Charity|CHARITY 100% APPROVED</td>\n",
       "    </tr>\n",
       "    <tr>\n",
       "      <th>3</th>\n",
       "      <td>Other</td>\n",
       "      <td>Charity|CHARITY PARTIAL APPROVAL</td>\n",
       "    </tr>\n",
       "    <tr>\n",
       "      <th>4</th>\n",
       "      <td>Other</td>\n",
       "      <td>Charity|CHARITY PENDING</td>\n",
       "    </tr>\n",
       "    <tr>\n",
       "      <th>...</th>\n",
       "      <td>...</td>\n",
       "      <td>...</td>\n",
       "    </tr>\n",
       "    <tr>\n",
       "      <th>175</th>\n",
       "      <td>MCR MC</td>\n",
       "      <td>Medicare|MEDICARE RR PALMETTO GBA</td>\n",
       "    </tr>\n",
       "    <tr>\n",
       "      <th>176</th>\n",
       "      <td>MCR MC</td>\n",
       "      <td>Medicare|SIERRA HEALTH M</td>\n",
       "    </tr>\n",
       "    <tr>\n",
       "      <th>177</th>\n",
       "      <td>MCR MC</td>\n",
       "      <td>Medicare|UNITED HEALTHCARE MEDICARE ADV M</td>\n",
       "    </tr>\n",
       "    <tr>\n",
       "      <th>178</th>\n",
       "      <td>MCR MC</td>\n",
       "      <td>Medicare|WELLCARE MEDICARE ADVANTAGE M</td>\n",
       "    </tr>\n",
       "    <tr>\n",
       "      <th>179</th>\n",
       "      <td>Other</td>\n",
       "      <td>Self-pay|SELF-PAY</td>\n",
       "    </tr>\n",
       "  </tbody>\n",
       "</table>\n",
       "<p>180 rows × 2 columns</p>\n",
       "</div>"
      ],
      "text/plain": [
       "    KHRS_Payor                        Payor_key_Crosswalk\n",
       "0        Other                 Charity|BANKRUPTCY PATIENT\n",
       "1        Other                            Charity|CHARITY\n",
       "2        Other              Charity|CHARITY 100% APPROVED\n",
       "3        Other           Charity|CHARITY PARTIAL APPROVAL\n",
       "4        Other                    Charity|CHARITY PENDING\n",
       "..         ...                                        ...\n",
       "175     MCR MC          Medicare|MEDICARE RR PALMETTO GBA\n",
       "176     MCR MC                   Medicare|SIERRA HEALTH M\n",
       "177     MCR MC  Medicare|UNITED HEALTHCARE MEDICARE ADV M\n",
       "178     MCR MC     Medicare|WELLCARE MEDICARE ADVANTAGE M\n",
       "179      Other                          Self-pay|SELF-PAY\n",
       "\n",
       "[180 rows x 2 columns]"
      ]
     },
     "execution_count": 22,
     "metadata": {},
     "output_type": "execute_result"
    }
   ],
   "source": [
    "KHRS_Payor.drop(['Financial Class Name', 'Primary Payor Plan Name', 'Pt Count', 'Avd Age'], axis =1)"
   ]
  },
  {
   "cell_type": "code",
   "execution_count": 23,
   "metadata": {},
   "outputs": [
    {
     "data": {
      "text/plain": [
       "{'Charity|BANKRUPTCY PATIENT': 'Other',\n",
       " 'Charity|CHARITY': 'Other',\n",
       " 'Charity|CHARITY 100% APPROVED': 'Other',\n",
       " 'Charity|CHARITY PARTIAL APPROVAL': 'Other',\n",
       " 'Charity|CHARITY PENDING': 'Other',\n",
       " 'Charity|CHARITY PRE APPROVAL': 'Other',\n",
       " 'Commercial|AETNA INDEMNITY': 'Comm',\n",
       " 'Commercial|AUTO INSURANCE': 'Comm',\n",
       " 'Commercial|CIGNA LOCAL PLUS': 'Comm',\n",
       " 'Commercial|COMMERCIAL': 'Comm',\n",
       " 'Commercial|COMPSYCH OTHER': 'Comm',\n",
       " 'Commercial|ELAP CLAIMS': 'Comm',\n",
       " 'Commercial|HARBOR LIGHT HOSPICE': 'Comm',\n",
       " 'Commercial|HELP LOAN PROGRAM PENDING': 'Comm',\n",
       " 'Commercial|HOSPICE': 'Comm',\n",
       " 'Commercial|LIABILITY LIEN MEDICARE': 'Comm',\n",
       " 'Commercial|MDSAVE SPECIAL PRICING': 'Comm',\n",
       " 'Commercial|MULTIPLAN LIMITED': 'Comm',\n",
       " 'Commercial|PHYSICIAN MUTUAL': 'Comm',\n",
       " 'Commercial|SEX CRIMES SERVICES': 'Comm',\n",
       " 'Commercial|STATE FARM AUTO INSURANCE': 'Comm',\n",
       " 'Commercial|THIRD PARTY COMMERCIAL': 'Comm',\n",
       " 'Commercial|UHC INDEMNITY': 'Comm',\n",
       " 'Commercial|WORKERS COMP CITY OF HOBART': 'Comm',\n",
       " 'Commercial|WORKERS COMP MITTAL STEEL ESIS': 'Comm',\n",
       " 'Commercial|WORKERS COMP STC EMPLOYEE': 'Comm',\n",
       " 'Commercial|WORKERS COMP STM EMPLOYEE': 'Comm',\n",
       " 'Commercial|WORKERS COMP TCH  EMPLOYEE': 'Comm',\n",
       " 'Commercial|WORKERS COMPENSATION': 'Comm',\n",
       " 'Government Other|CHAMPVA': 'Gov',\n",
       " 'Government Other|TRICARE': 'Gov',\n",
       " 'Government Other|VA EDWARD HINES': 'Gov',\n",
       " 'Government Other|VA JESSE BROWN': 'Gov',\n",
       " 'Government Other|VA OTHER': 'Gov',\n",
       " 'Government Other|WPS TRICARE FOR LIFE': 'Gov',\n",
       " 'Managed Care|AETNA HMO/POS': 'Comm MC',\n",
       " 'Managed Care|AETNA MERITAIN': 'Comm MC',\n",
       " 'Managed Care|AETNA NAP': 'Comm MC',\n",
       " 'Managed Care|AETNA PPO': 'Comm MC',\n",
       " 'Managed Care|AETNA SIGNATURE ADMIN PPO': 'Comm MC',\n",
       " 'Managed Care|BX ANTHEM BLUE ACCESS PPO': 'Comm MC',\n",
       " 'Managed Care|BX ANTHEM BLUE PREFERRED HMO': 'Comm MC',\n",
       " 'Managed Care|BX FEDERAL BLUE CROSS': 'Comm MC',\n",
       " 'Managed Care|BX ILL HAMMOND CLINIC': 'Comm MC',\n",
       " 'Managed Care|BX ILL PPO WITH SUITCASE': 'Comm MC',\n",
       " 'Managed Care|BX ILLINOIS BLUE CROSS HMO': 'Comm MC',\n",
       " 'Managed Care|BX LOCAL 597 ILL PPO W/SUITCASE': 'Comm MC',\n",
       " 'Managed Care|BX OF ILLINOIS COMMUNITY HEALTH PARTNERS': 'Comm MC',\n",
       " 'Managed Care|BX OUT OF STATE PPO': 'Comm MC',\n",
       " 'Managed Care|BX OUT OF STATE TRAD': 'Comm MC',\n",
       " 'Managed Care|CHA': 'Comm MC',\n",
       " 'Managed Care|CHS PRAIRIE STATES CCN': 'Comm MC',\n",
       " 'Managed Care|CHS PRAIRIE STATES CFNI': 'Comm MC',\n",
       " 'Managed Care|CHS PRAIRIE STATES CH': 'Comm MC',\n",
       " 'Managed Care|CHS PRAIRIE STATES CSR': 'Comm MC',\n",
       " 'Managed Care|CHS PRAIRIE STATES HTV': 'Comm MC',\n",
       " 'Managed Care|CHS PRAIRIE STATES STC': 'Comm MC',\n",
       " 'Managed Care|CHS PRAIRIE STATES STM': 'Comm MC',\n",
       " 'Managed Care|CIGNA APWU': 'Comm MC',\n",
       " 'Managed Care|CIGNA BOILERMAKERS': 'Comm MC',\n",
       " 'Managed Care|CIGNA CITY OF GARY': 'Comm MC',\n",
       " 'Managed Care|CIGNA CITY OF HAMMOND': 'Comm MC',\n",
       " 'Managed Care|CIGNA HEALTH PARTNERS': 'Comm MC',\n",
       " 'Managed Care|CIGNA HEALTH PARTNERS OAP': 'Comm MC',\n",
       " 'Managed Care|CIGNA HMO/POS': 'Comm MC',\n",
       " 'Managed Care|CIGNA LAKE COUNTY GOVT': 'Comm MC',\n",
       " 'Managed Care|CIGNA NALC': 'Comm MC',\n",
       " 'Managed Care|CIGNA OTHER': 'Comm MC',\n",
       " 'Managed Care|CIGNA PPO': 'Comm MC',\n",
       " 'Managed Care|CIGNA PPO ALLIED BENEFIT SYSTEMS': 'Comm MC',\n",
       " 'Managed Care|CIGNA PPO BAS': 'Comm MC',\n",
       " 'Managed Care|CIGNA PPO CORESOURCE': 'Comm MC',\n",
       " 'Managed Care|CIGNA PPO GROUP ADMINISTRATORS': 'Comm MC',\n",
       " 'Managed Care|CIGNA PPO NORTH AMERICA ADMINISTRATORS': 'Comm MC',\n",
       " 'Managed Care|CIGNA PPO PBA': 'Comm MC',\n",
       " 'Managed Care|COVENTRY AETNA': 'Comm MC',\n",
       " 'Managed Care|ENCORE HEALTH NETWORK': 'Comm MC',\n",
       " 'Managed Care|FIRST BAPTIST CHURCH OF HAMMOND': 'Comm MC',\n",
       " 'Managed Care|FIRST HEALTH/COVENTRY': 'Comm MC',\n",
       " 'Managed Care|GREAT WEST MO HMO/POS/OA': 'Comm MC',\n",
       " 'Managed Care|GREAT WEST MO/PPO': 'Comm MC',\n",
       " 'Managed Care|HEALTHLINK STATE OF ILLINOIS': 'Comm MC',\n",
       " 'Managed Care|HFN PPO/EPO': 'Comm MC',\n",
       " 'Managed Care|HFN UFCW LOCAL 1546': 'Comm MC',\n",
       " 'Managed Care|HUMANA HMO/CHOICE POS/NATIONAL POS': 'Comm MC',\n",
       " 'Managed Care|HUMANA PPO': 'Comm MC',\n",
       " 'Managed Care|LOCAL 697': 'Comm MC',\n",
       " 'Managed Care|LUTHERAN PREFERRED NETWORK': 'Comm MC',\n",
       " 'Managed Care|MULTIPLAN': 'Comm MC',\n",
       " 'Managed Care|NGS CORESOURCE AETNA SIGNATURE': 'Comm MC',\n",
       " 'Managed Care|PHCS': 'Comm MC',\n",
       " 'Managed Care|PHCS ALLIED BENEFIT SYSTEM': 'Comm MC',\n",
       " 'Managed Care|PHCS BENEFIT ADMIN SYS BAS': 'Comm MC',\n",
       " 'Managed Care|PHCS CITY OF EAST CHICAGO': 'Comm MC',\n",
       " 'Managed Care|PHCS MEDISHARE': 'Comm MC',\n",
       " 'Managed Care|PHCS THIRD PARTY ADMINISTRAT': 'Comm MC',\n",
       " 'Managed Care|PHCS/BAS IN NETWORK': 'Comm MC',\n",
       " 'Managed Care|PORTER COUNTY GOVERNMENT IN NETWORK': 'Comm MC',\n",
       " 'Managed Care|REGENCY PORTER HOSPITAL': 'Comm MC',\n",
       " 'Managed Care|SAGAMORE HEALTH NETWORK': 'Comm MC',\n",
       " 'Managed Care|SUPERMED PPO POS HMO': 'Comm MC',\n",
       " 'Managed Care|UHC ALL SAVERS/AMERICA MEDICAL SERVICES': 'Comm MC',\n",
       " 'Managed Care|UHC GEHA': 'Comm MC',\n",
       " 'Managed Care|UHC GOLDEN RULE/INDIVIDUAL/UHONE': 'Comm MC',\n",
       " 'Managed Care|UHC HMO/POS/OPEN ACCESS': 'Comm MC',\n",
       " 'Managed Care|UHC MANAGED INDEMNITY': 'Comm MC',\n",
       " 'Managed Care|UHC MEDICA': 'Comm MC',\n",
       " 'Managed Care|UHC NAVIGATE HMO': 'Comm MC',\n",
       " 'Managed Care|UHC OPTIONS PPO': 'Comm MC',\n",
       " 'Managed Care|UHC OTHER': 'Comm MC',\n",
       " 'Managed Care|UHC PCIP UHIS': 'Comm MC',\n",
       " 'Managed Care|UHC PPO': 'Comm MC',\n",
       " 'Managed Care|UHC STUDENT RESOURCES': 'Comm MC',\n",
       " 'Managed Care|UHC UMR': 'Comm MC',\n",
       " 'Managed Care|UMR OPTIONS PPO': 'Comm MC',\n",
       " 'Managed Care|VALUE OPTIONS': 'Comm MC',\n",
       " 'Managed Care|WESTERN SOUTHERN CHOICECARE': 'Comm MC',\n",
       " 'Managed Care Marketplace|AMBETTER MHS': 'Comm MC',\n",
       " 'Managed Care Marketplace|ANTHEM PATHWAY HMO/POS': 'Comm MC',\n",
       " 'Managed Care Marketplace|ANTHEM PATHWAY X HMO POS': 'Comm MC',\n",
       " 'Managed Care Marketplace|BX IL HMO BAV': 'Comm MC',\n",
       " 'Managed Care Marketplace|BX ILL EXCHANGE PPO W/SUITCASE': 'Comm MC',\n",
       " 'Managed Care Marketplace|MARKETPLACE OUT OF NETWORK': 'Comm MC',\n",
       " 'Medicaid|AETNA BETTER HEALTH IPA': 'MCD',\n",
       " 'Medicaid|ANTHEM HIP': 'MCD',\n",
       " 'Medicaid|ANTHEM ST. FRANCIS NETWORK': 'MCD',\n",
       " 'Medicaid|BX COMMUNITY ICP': 'MCD',\n",
       " 'Medicaid|CARDON OUTREACH REFERRAL': 'MCD',\n",
       " 'Medicaid|CARESOURCE HIP': 'MCD',\n",
       " 'Medicaid|CARESOURCE HOOSIER HEALTHWISE': 'MCD',\n",
       " 'Medicaid|CARETAKER ANTHEM HIP': 'MCD',\n",
       " 'Medicaid|CARETAKER MANAGED HEALTH SERVICE HIP': 'MCD',\n",
       " 'Medicaid|CARETAKER MD WISE HIP EXCEL': 'MCD',\n",
       " 'Medicaid|CARETAKER MD WISE HIP ST CATHERINE': 'MCD',\n",
       " 'Medicaid|COUNTY CARE COAHS': 'MCD',\n",
       " 'Medicaid|HOOSIER CARE CONNECT ANTHEM': 'MCD',\n",
       " 'Medicaid|HOOSIER CARE CONNECT MHS': 'MCD',\n",
       " 'Medicaid|ILLINICARE IPA': 'MCD',\n",
       " 'Medicaid|ILLINOIS MEDICAID NON CONTRACT': 'MCD',\n",
       " 'Medicaid|MANAGED HEALTH SERVICES HIP': 'MCD',\n",
       " 'Medicaid|MD WISE EXCEL': 'MCD',\n",
       " 'Medicaid|MD WISE HIP EXCEL': 'MCD',\n",
       " 'Medicaid|MD WISE HIP OTHER': 'MCD',\n",
       " 'Medicaid|MD WISE HIP ST CATHERINE': 'MCD',\n",
       " 'Medicaid|MD WISE ST CATH': 'MCD',\n",
       " 'Medicaid|MEDICAID ANTHEM': 'MCD',\n",
       " 'Medicaid|MEDICAID HARMONY HLTH ILLINOIS': 'MCD',\n",
       " 'Medicaid|MEDICAID ILLINOIS': 'MCD',\n",
       " 'Medicaid|MEDICAID MANAGED HEALTH SERVICES': 'MCD',\n",
       " 'Medicaid|MEDICAID MERIDIAN HEALTH PLAN': 'MCD',\n",
       " 'Medicaid|MEDICAID OUT OF STATE': 'MCD',\n",
       " 'Medicaid|MEDICAID PACKAGE E': 'MCD',\n",
       " 'Medicaid|MEDICAID TRADITIONAL': 'MCD',\n",
       " 'Medicaid|PRESUMPTIVE ELIG CARESOURCE': 'MCD',\n",
       " 'Medicaid|PRESUMPTIVE ELIG CARESOURCE HIP': 'MCD',\n",
       " 'Medicaid|PRESUMPTIVE ELIGIBILITY ANTHEM': 'MCD',\n",
       " 'Medicaid|PRESUMPTIVE ELIGIIBILITY MEDICAID TRAD': 'MCD',\n",
       " 'Medicaid|PRESUMPTIVE HIP ELIG ANTHEM': 'MCD',\n",
       " 'Medicaid|PRESUMPTIVE HIP ELIG MD WISE ST CATH': 'MCD',\n",
       " 'Medicaid|PRESUMPTIVE HIP ELIG MDWISE': 'MCD',\n",
       " 'Medicaid|PRESUMPTIVE HIP MANGED HEALTH': 'MCD',\n",
       " 'Medicare|AETNA MEDICARE M': 'MCR MC',\n",
       " 'Medicare|BX ANTHEM HMO/SNP MEDICARE ADVANTAGE': 'MCR MC',\n",
       " 'Medicare|BX ANTHEM MEDICARE ADVANTAGE': 'MCR MC',\n",
       " 'Medicare|BX ANTHEM PPO MEDICARE ADVANTAGE': 'MCR MC',\n",
       " 'Medicare|BX IL MEDICARE ADVANTAGE MMAI': 'MCR MC',\n",
       " 'Medicare|CIGNA HEALTHSPRING M': 'MCR MC',\n",
       " 'Medicare|MEDICARE A AND B': 'MCR',\n",
       " 'Medicare|MEDICARE A ONLY': 'MCR',\n",
       " 'Medicare|MEDICARE B ONLY': 'MCR',\n",
       " 'Medicare|MEDICARE HUMANA CHOICE PPO M': 'MCR MC',\n",
       " 'Medicare|MEDICARE HUMANA GOLD CHOICE PFFS M': 'MCR MC',\n",
       " 'Medicare|MEDICARE HUMANA GOLD RISK HMO M': 'MCR MC',\n",
       " 'Medicare|MEDICARE NON CONTRACT HMO M': 'MCR MC',\n",
       " 'Medicare|MEDICARE RHB': 'MCR MC',\n",
       " 'Medicare|MEDICARE RR PALMETTO GBA': 'MCR MC',\n",
       " 'Medicare|SIERRA HEALTH M': 'MCR MC',\n",
       " 'Medicare|UNITED HEALTHCARE MEDICARE ADV M': 'MCR MC',\n",
       " 'Medicare|WELLCARE MEDICARE ADVANTAGE M': 'MCR MC',\n",
       " 'Self-pay|SELF-PAY': 'Other'}"
      ]
     },
     "execution_count": 23,
     "metadata": {},
     "output_type": "execute_result"
    }
   ],
   "source": [
    "# KHRS_Payor_Crosswalk = pd.Series(KHRS_Payor['KHRS_Payor'].values,index = KHRS_Payor['Payor_key_Crosswalk']).to_dict()\n",
    "KHRS_Payor_Crosswalk_Dic = KHRS_Payor.set_index('Payor_key_Crosswalk')['KHRS_Payor'].to_dict()\n",
    "KHRS_Payor_Crosswalk_Dic "
   ]
  },
  {
   "cell_type": "code",
   "execution_count": 24,
   "metadata": {},
   "outputs": [],
   "source": [
    "data['Payor_Key_main'] = data['Financial Class Name']+'|'+data['Primary Payor Plan Name']"
   ]
  },
  {
   "cell_type": "code",
   "execution_count": 25,
   "metadata": {},
   "outputs": [
    {
     "data": {
      "text/plain": [
       "Index(['Entity Code & Name', 'Patient Account Number', 'Patient Med Rec No',\n",
       "       'Patient Class Desc', 'Admit Date', 'Discharge Date', 'LOS Acute',\n",
       "       'LOS ICU', 'Patient Age', 'Patient Zip', 'Financial Class Name',\n",
       "       'Primary Payor Plan Name', 'DRG Code', 'Discharge Status Code',\n",
       "       'Final Destination Name', 'ICD-10-CM Prin Diag Code',\n",
       "       'ICD-10 DX Code 2', 'ICD-10 DX Code 3', 'ICD-10 DX Code 4',\n",
       "       'ICD-10 DX Code 5', 'ICD-10 DX Code 6', 'ICD-10 DX Code 7',\n",
       "       'ICD-10 DX Code 8', 'ICD-10 DX Code 9', 'ICD-10 DX Code 10',\n",
       "       'ICD-10 DX Code 11', 'ICD-10 DX Code 12', 'Prin Proc ICD-10-PCS Code',\n",
       "       'ICD-10-PCS Code-2', 'ICD-10-PCS Code-3', 'ICD-10-PCS Code-4',\n",
       "       'ICD-10-PCS Code-5', 'ICD-10-PCS Code-6', 'ICD-10-PCS Code-7',\n",
       "       'ICD-10-PCS Code-8', 'ICD-10-PCS Code-9', 'ICD-10-PCS Code-10',\n",
       "       'ICD-10-PCS Code-11', 'ICD-10-PCS Code-12', 'PT Eval', 'OT Eval',\n",
       "       'SLP  Eval', 'First Therpy Date-PT', 'First Therpy Date-OT',\n",
       "       'First Therpy Date-SLP', 'DC Date_YY-Q', 'DC Date_YY-MM', 'DC Date_YY',\n",
       "       'Calc_LOS', 'KHRS_Payor'],\n",
       "      dtype='object')"
      ]
     },
     "execution_count": 25,
     "metadata": {},
     "output_type": "execute_result"
    }
   ],
   "source": [
    "data[\"KHRS_Payor\"] = data['Payor_Key_main'].map(KHRS_Payor_Crosswalk_Dic )\n",
    "data.drop(['Payor_Key_main'], axis = 1).columns"
   ]
  },
  {
   "cell_type": "markdown",
   "metadata": {},
   "source": [
    "# Re-Define the DC Disposition based on CMS Definition"
   ]
  },
  {
   "cell_type": "code",
   "execution_count": 26,
   "metadata": {},
   "outputs": [],
   "source": [
    "dc_disp_crosswalk = pd.read_excel(r'C:\\Users\\shaha\\OneDrive\\Documents\\QlikView&Python_Project\\A_RowData\\Crosswalks Tables.xlsx',\\\n",
    "                                  sheet_name = 'DC_Code_Name_CMS' )#.rename(columns={\"Unnamed: 3\": \"KHRS_Payor_Crosswalk\"})\n",
    "\n",
    "dc_disp_crosswalk = dc_disp_crosswalk.drop(['Destination', 'Categorization (Roll Up)'], axis = 1).\\\n",
    "                    set_index('DC Codes')['DC Disp_Short'].to_dict()"
   ]
  },
  {
   "cell_type": "code",
   "execution_count": 27,
   "metadata": {},
   "outputs": [],
   "source": [
    "data['KHRS_Dc_Disp'] = data['Discharge Status Code'].map(dc_disp_crosswalk)"
   ]
  },
  {
   "cell_type": "code",
   "execution_count": 28,
   "metadata": {},
   "outputs": [
    {
     "data": {
      "text/plain": [
       "Index(['KHRS_Payor', 'KHRS_Dc_Disp'], dtype='object')"
      ]
     },
     "execution_count": 28,
     "metadata": {},
     "output_type": "execute_result"
    }
   ],
   "source": [
    "data.columns[-2:]    # we lost almost 400 pt due to removal of pt with age 0 - 15"
   ]
  },
  {
   "cell_type": "markdown",
   "metadata": {},
   "source": [
    "# Assign DRG Name, GMLOS, Product_line, Weight based on Patient's DRG"
   ]
  },
  {
   "cell_type": "markdown",
   "metadata": {},
   "source": [
    "The received data contains just DRG Code and we need add associated\n",
    "info's such as GMLOS, Product Line and weight for each patient's DRG. The crosswalk comes from CMS website and IBM Truven Health."
   ]
  },
  {
   "cell_type": "code",
   "execution_count": 29,
   "metadata": {},
   "outputs": [],
   "source": [
    "DRG_Data = pd.read_excel(r'C:\\Users\\shaha\\OneDrive\\Documents\\QlikView&Python_Project\\A_RowData\\Crosswalks Tables.xlsx',\\\n",
    "                                  sheet_name = 'DRGs', skiprows=1)\n",
    "# DRG_Data.head(4)"
   ]
  },
  {
   "cell_type": "code",
   "execution_count": 30,
   "metadata": {},
   "outputs": [],
   "source": [
    "DRG_Name = DRG_Data.drop(['FY 2019 FINAL Post-Acute DRG', 'FY 2019 FINAL Special Pay DRG', 'TYPE', 'Product Line', 'DRG', 'MDC', \n",
    "                          'Weights', 'Geometric mean LOS', 'Arithmetic mean LOS'], axis=1)\\\n",
    "                            .set_index('MS-DRG')['MS-DRG Title'].to_dict()\n",
    "data['MS-DRG Name'] = data['DRG Code'].map(DRG_Name)"
   ]
  },
  {
   "cell_type": "code",
   "execution_count": 31,
   "metadata": {},
   "outputs": [],
   "source": [
    "Product_line = DRG_Data.drop(['FY 2019 FINAL Post-Acute DRG',\n",
    "       'FY 2019 FINAL Special Pay DRG', 'TYPE', 'MS-DRG Title', 'DRG', 'MDC', 'Weights',\n",
    "        'Geometric mean LOS', 'Arithmetic mean LOS'], axis=1).set_index('MS-DRG')['Product Line'].to_dict()\n",
    "\n",
    "data['Product Line'] = data['DRG Code'].map(Product_line)\n",
    "\n",
    "data.loc[data['Product Line']==\" \",'Product Line'] = 'Other'"
   ]
  },
  {
   "cell_type": "code",
   "execution_count": 32,
   "metadata": {},
   "outputs": [],
   "source": [
    "# # should be removed\n",
    "# DRG_ProdLine = data[['DRG Code', 'Product Line']]\n",
    "# saved_URL = (r'C:\\Users\\shaha\\OneDrive\\Documents\\QlikView&Python_Project\\Python Project\\DRG-ProdLine.xlsx')\n",
    "# DRG_ProdLine.to_excel (saved_URL)"
   ]
  },
  {
   "cell_type": "code",
   "execution_count": 33,
   "metadata": {},
   "outputs": [],
   "source": [
    "DRG_Weight = DRG_Data.drop(['FY 2019 FINAL Post-Acute DRG','FY 2019 FINAL Special Pay DRG', 'TYPE', 'MS-DRG Title', 'Product Line',\n",
    "       'DRG', 'MDC','Geometric mean LOS', 'Arithmetic mean LOS'], axis=1).set_index('MS-DRG')['Weights'].to_dict()\n",
    "data['DRG_Weight'] = data['DRG Code'].map(DRG_Weight)"
   ]
  },
  {
   "cell_type": "code",
   "execution_count": 34,
   "metadata": {},
   "outputs": [],
   "source": [
    "DRG_GMLOS = DRG_Data.drop(['FY 2019 FINAL Post-Acute DRG', 'FY 2019 FINAL Special Pay DRG', 'TYPE', 'MS-DRG Title', 'Product Line',\n",
    "       'DRG', 'MDC', 'Weights', 'Arithmetic mean LOS'], axis=1).set_index('MS-DRG')['Geometric mean LOS'].to_dict()\n",
    "data['DRG_GMLOS'] = data['DRG Code'].map(DRG_GMLOS)"
   ]
  },
  {
   "cell_type": "code",
   "execution_count": 35,
   "metadata": {},
   "outputs": [],
   "source": [
    "DRG_MDC = DRG_Data.drop(['FY 2019 FINAL Post-Acute DRG','FY 2019 FINAL Special Pay DRG', 'TYPE', 'MS-DRG Title', 'Product Line',\n",
    "       'DRG', 'Weights', 'Geometric mean LOS', 'Arithmetic mean LOS'], axis=1).set_index('MS-DRG')['MDC'].to_dict()\n",
    "data['DRG_MDC'] = data['DRG Code'].map(DRG_MDC)"
   ]
  },
  {
   "cell_type": "code",
   "execution_count": 36,
   "metadata": {},
   "outputs": [
    {
     "data": {
      "text/plain": [
       "Alcohol & Drug Abuse          816\n",
       "Cardio-Vasc-Thor Surgery     4990\n",
       "Cardiovascular Diseases      8610\n",
       "ENT                          2418\n",
       "General Medicine            21599\n",
       "General Surgery              9188\n",
       "Gynecology                    449\n",
       "Nephrology/Urology           5038\n",
       "Neuro Sciences               2340\n",
       "Obstetrics Del               3813\n",
       "Obstetrics ND                 136\n",
       "Oncology                      887\n",
       "Orthopedics                   592\n",
       "Psychiatry                    262\n",
       "Name: Product Line, dtype: int64"
      ]
     },
     "execution_count": 36,
     "metadata": {},
     "output_type": "execute_result"
    }
   ],
   "source": [
    "data['Product Line'].value_counts().sort_index()"
   ]
  },
  {
   "cell_type": "markdown",
   "metadata": {},
   "source": [
    "Note: in the received data set, we have 3953 Obstetrics Del & ND cases which are not a target for rehabilitation service. We need to eliminate from the data set."
   ]
  },
  {
   "cell_type": "code",
   "execution_count": 37,
   "metadata": {},
   "outputs": [
    {
     "data": {
      "text/plain": [
       "(61145, 57)"
      ]
     },
     "execution_count": 37,
     "metadata": {},
     "output_type": "execute_result"
    }
   ],
   "source": [
    "data.shape"
   ]
  },
  {
   "cell_type": "code",
   "execution_count": 38,
   "metadata": {},
   "outputs": [],
   "source": [
    "data = data.loc[((data['Product Line']!=\"Obstetrics Del\") &(data['Product Line']!=\"Obstetrics ND\" )&(data['Product Line']!= '' ) & (data['Product Line']!=\"Neonatology\" )),: ]"
   ]
  },
  {
   "cell_type": "code",
   "execution_count": 51,
   "metadata": {},
   "outputs": [
    {
     "data": {
      "text/plain": [
       "0        743\n",
       "1        834\n",
       "2        299\n",
       "4        470\n",
       "5        853\n",
       "        ... \n",
       "66344    247\n",
       "66345    908\n",
       "66346    177\n",
       "66349    639\n",
       "66350    346\n",
       "Name: DRG Code, Length: 57196, dtype: object"
      ]
     },
     "execution_count": 51,
     "metadata": {},
     "output_type": "execute_result"
    }
   ],
   "source": [
    "data = data.loc[data['Patient Class Desc'] == 'Inpatient']\n",
    "data['DRG Code'].fillna('Other')"
   ]
  },
  {
   "cell_type": "code",
   "execution_count": 52,
   "metadata": {},
   "outputs": [
    {
     "data": {
      "text/plain": [
       "(57196, 69)"
      ]
     },
     "execution_count": 52,
     "metadata": {},
     "output_type": "execute_result"
    }
   ],
   "source": [
    "data.shape"
   ]
  },
  {
   "cell_type": "code",
   "execution_count": 50,
   "metadata": {},
   "outputs": [
    {
     "data": {
      "text/plain": [
       "Alcohol & Drug Abuse          816\n",
       "Cardio-Vasc-Thor Surgery     4990\n",
       "Cardiovascular Diseases      8610\n",
       "ENT                          2418\n",
       "General Medicine            21599\n",
       "General Surgery              9188\n",
       "Gynecology                    449\n",
       "Nephrology/Urology           5038\n",
       "Neuro Sciences               2340\n",
       "Oncology                      887\n",
       "Orthopedics                   592\n",
       "Psychiatry                    262\n",
       "Name: Product Line, dtype: int64"
      ]
     },
     "execution_count": 50,
     "metadata": {},
     "output_type": "execute_result"
    }
   ],
   "source": [
    "data['Product Line'].value_counts().sort_index()"
   ]
  },
  {
   "cell_type": "markdown",
   "metadata": {},
   "source": [
    "# RIC ASSIGNMENT PROCESS"
   ]
  },
  {
   "cell_type": "markdown",
   "metadata": {},
   "source": [
    "We create a copy of ICD codes for Machine Learning Process. We need the \".\" for cleaning ICD codes for a better machine learning process. At the same time we need ICD codes withoit \".\" for RIC assignment."
   ]
  },
  {
   "cell_type": "code",
   "execution_count": 43,
   "metadata": {},
   "outputs": [],
   "source": [
    "ICD_List = ['ICD-10-CM Prin Diag Code', 'ICD-10 DX Code 2', 'ICD-10 DX Code 3', 'ICD-10 DX Code 4', 'ICD-10 DX Code 5', \n",
    "            'ICD-10 DX Code 6', 'ICD-10 DX Code 7', 'ICD-10 DX Code 8', 'ICD-10 DX Code 9', 'ICD-10 DX Code 10', \n",
    "            'ICD-10 DX Code 11', 'ICD-10 DX Code 12']\n",
    "for x in data[ICD_List]:\n",
    "        data[x+'v0'] = data[x].str.split('.').str[0]"
   ]
  },
  {
   "cell_type": "markdown",
   "metadata": {},
   "source": [
    "\n",
    "## Cleaning ICD DX 1-12"
   ]
  },
  {
   "cell_type": "markdown",
   "metadata": {},
   "source": [
    "Firstly, lets look at the ICD DX Codes"
   ]
  },
  {
   "cell_type": "code",
   "execution_count": 44,
   "metadata": {},
   "outputs": [
    {
     "data": {
      "text/html": [
       "<div>\n",
       "<style scoped>\n",
       "    .dataframe tbody tr th:only-of-type {\n",
       "        vertical-align: middle;\n",
       "    }\n",
       "\n",
       "    .dataframe tbody tr th {\n",
       "        vertical-align: top;\n",
       "    }\n",
       "\n",
       "    .dataframe thead th {\n",
       "        text-align: right;\n",
       "    }\n",
       "</style>\n",
       "<table border=\"1\" class=\"dataframe\">\n",
       "  <thead>\n",
       "    <tr style=\"text-align: right;\">\n",
       "      <th></th>\n",
       "      <th>ICD-10-CM Prin Diag Code</th>\n",
       "      <th>ICD-10 DX Code 2</th>\n",
       "      <th>ICD-10 DX Code 3</th>\n",
       "      <th>ICD-10 DX Code 4</th>\n",
       "      <th>ICD-10 DX Code 5</th>\n",
       "      <th>ICD-10 DX Code 6</th>\n",
       "      <th>ICD-10 DX Code 7</th>\n",
       "      <th>ICD-10 DX Code 8</th>\n",
       "      <th>ICD-10 DX Code 9</th>\n",
       "      <th>ICD-10 DX Code 10</th>\n",
       "      <th>ICD-10 DX Code 11</th>\n",
       "      <th>ICD-10 DX Code 12</th>\n",
       "    </tr>\n",
       "  </thead>\n",
       "  <tbody>\n",
       "    <tr>\n",
       "      <th>0</th>\n",
       "      <td>D25.1</td>\n",
       "      <td>D26.0</td>\n",
       "      <td>E03.9</td>\n",
       "      <td>Z79.899</td>\n",
       "      <td>NaN</td>\n",
       "      <td>NaN</td>\n",
       "      <td>NaN</td>\n",
       "      <td>NaN</td>\n",
       "      <td>NaN</td>\n",
       "      <td>NaN</td>\n",
       "      <td>NaN</td>\n",
       "      <td>NaN</td>\n",
       "    </tr>\n",
       "    <tr>\n",
       "      <th>1</th>\n",
       "      <td>C95.00</td>\n",
       "      <td>D61.810</td>\n",
       "      <td>J15.6</td>\n",
       "      <td>K56.7</td>\n",
       "      <td>K92.1</td>\n",
       "      <td>D63.8</td>\n",
       "      <td>R16.1</td>\n",
       "      <td>K76.0</td>\n",
       "      <td>E87.6</td>\n",
       "      <td>Z87.891</td>\n",
       "      <td>R04.0</td>\n",
       "      <td>K59.00</td>\n",
       "    </tr>\n",
       "    <tr>\n",
       "      <th>2</th>\n",
       "      <td>I82.402</td>\n",
       "      <td>J18.9</td>\n",
       "      <td>I25.10</td>\n",
       "      <td>E78.5</td>\n",
       "      <td>I11.9</td>\n",
       "      <td>I48.0</td>\n",
       "      <td>E11.9</td>\n",
       "      <td>Z79.4</td>\n",
       "      <td>Z86.73</td>\n",
       "      <td>Z87.891</td>\n",
       "      <td>I25.2</td>\n",
       "      <td>I82.511</td>\n",
       "    </tr>\n",
       "    <tr>\n",
       "      <th>4</th>\n",
       "      <td>M17.12</td>\n",
       "      <td>Z96.641</td>\n",
       "      <td>G47.30</td>\n",
       "      <td>E78.1</td>\n",
       "      <td>E78.00</td>\n",
       "      <td>Z85.828</td>\n",
       "      <td>Z87.891</td>\n",
       "      <td>Z79.82</td>\n",
       "      <td>NaN</td>\n",
       "      <td>NaN</td>\n",
       "      <td>NaN</td>\n",
       "      <td>NaN</td>\n",
       "    </tr>\n",
       "    <tr>\n",
       "      <th>5</th>\n",
       "      <td>A41.9</td>\n",
       "      <td>I50.23</td>\n",
       "      <td>J96.91</td>\n",
       "      <td>G93.40</td>\n",
       "      <td>J18.9</td>\n",
       "      <td>I13.0</td>\n",
       "      <td>E87.1</td>\n",
       "      <td>N17.9</td>\n",
       "      <td>L03.116</td>\n",
       "      <td>L03.115</td>\n",
       "      <td>M86.9</td>\n",
       "      <td>E11.51</td>\n",
       "    </tr>\n",
       "    <tr>\n",
       "      <th>...</th>\n",
       "      <td>...</td>\n",
       "      <td>...</td>\n",
       "      <td>...</td>\n",
       "      <td>...</td>\n",
       "      <td>...</td>\n",
       "      <td>...</td>\n",
       "      <td>...</td>\n",
       "      <td>...</td>\n",
       "      <td>...</td>\n",
       "      <td>...</td>\n",
       "      <td>...</td>\n",
       "      <td>...</td>\n",
       "    </tr>\n",
       "    <tr>\n",
       "      <th>66344</th>\n",
       "      <td>I21.19</td>\n",
       "      <td>J20.9</td>\n",
       "      <td>J43.9</td>\n",
       "      <td>I71.9</td>\n",
       "      <td>N18.2</td>\n",
       "      <td>Z87.891</td>\n",
       "      <td>Z89.021</td>\n",
       "      <td>NaN</td>\n",
       "      <td>NaN</td>\n",
       "      <td>NaN</td>\n",
       "      <td>NaN</td>\n",
       "      <td>NaN</td>\n",
       "    </tr>\n",
       "    <tr>\n",
       "      <th>66345</th>\n",
       "      <td>N99.71</td>\n",
       "      <td>I87.1</td>\n",
       "      <td>N99.840</td>\n",
       "      <td>R33.9</td>\n",
       "      <td>R31.0</td>\n",
       "      <td>Z79.82</td>\n",
       "      <td>NaN</td>\n",
       "      <td>NaN</td>\n",
       "      <td>NaN</td>\n",
       "      <td>NaN</td>\n",
       "      <td>NaN</td>\n",
       "      <td>NaN</td>\n",
       "    </tr>\n",
       "    <tr>\n",
       "      <th>66346</th>\n",
       "      <td>J69.0</td>\n",
       "      <td>J96.01</td>\n",
       "      <td>J44.1</td>\n",
       "      <td>J44.0</td>\n",
       "      <td>I11.0</td>\n",
       "      <td>E78.00</td>\n",
       "      <td>K21.9</td>\n",
       "      <td>I50.9</td>\n",
       "      <td>F32.9</td>\n",
       "      <td>F41.9</td>\n",
       "      <td>M19.90</td>\n",
       "      <td>Z87.891</td>\n",
       "    </tr>\n",
       "    <tr>\n",
       "      <th>66349</th>\n",
       "      <td>E11.10</td>\n",
       "      <td>E11.43</td>\n",
       "      <td>E66.01</td>\n",
       "      <td>E11.65</td>\n",
       "      <td>Z79.4</td>\n",
       "      <td>I10</td>\n",
       "      <td>K31.84</td>\n",
       "      <td>Z91.19</td>\n",
       "      <td>G47.33</td>\n",
       "      <td>NaN</td>\n",
       "      <td>NaN</td>\n",
       "      <td>NaN</td>\n",
       "    </tr>\n",
       "    <tr>\n",
       "      <th>66350</th>\n",
       "      <td>K61.1</td>\n",
       "      <td>J44.9</td>\n",
       "      <td>K61.0</td>\n",
       "      <td>E78.5</td>\n",
       "      <td>F17.200</td>\n",
       "      <td>M19.90</td>\n",
       "      <td>NaN</td>\n",
       "      <td>NaN</td>\n",
       "      <td>NaN</td>\n",
       "      <td>NaN</td>\n",
       "      <td>NaN</td>\n",
       "      <td>NaN</td>\n",
       "    </tr>\n",
       "  </tbody>\n",
       "</table>\n",
       "<p>57196 rows × 12 columns</p>\n",
       "</div>"
      ],
      "text/plain": [
       "      ICD-10-CM Prin Diag Code ICD-10 DX Code 2 ICD-10 DX Code 3  \\\n",
       "0                        D25.1            D26.0            E03.9   \n",
       "1                       C95.00          D61.810            J15.6   \n",
       "2                      I82.402            J18.9           I25.10   \n",
       "4                       M17.12          Z96.641           G47.30   \n",
       "5                        A41.9           I50.23           J96.91   \n",
       "...                        ...              ...              ...   \n",
       "66344                   I21.19            J20.9            J43.9   \n",
       "66345                   N99.71            I87.1          N99.840   \n",
       "66346                    J69.0           J96.01            J44.1   \n",
       "66349                   E11.10           E11.43           E66.01   \n",
       "66350                    K61.1            J44.9            K61.0   \n",
       "\n",
       "      ICD-10 DX Code 4 ICD-10 DX Code 5 ICD-10 DX Code 6 ICD-10 DX Code 7  \\\n",
       "0              Z79.899              NaN              NaN              NaN   \n",
       "1                K56.7            K92.1            D63.8            R16.1   \n",
       "2                E78.5            I11.9            I48.0            E11.9   \n",
       "4                E78.1           E78.00          Z85.828          Z87.891   \n",
       "5               G93.40            J18.9            I13.0            E87.1   \n",
       "...                ...              ...              ...              ...   \n",
       "66344            I71.9            N18.2          Z87.891          Z89.021   \n",
       "66345            R33.9            R31.0           Z79.82              NaN   \n",
       "66346            J44.0            I11.0           E78.00            K21.9   \n",
       "66349           E11.65            Z79.4              I10           K31.84   \n",
       "66350            E78.5          F17.200           M19.90              NaN   \n",
       "\n",
       "      ICD-10 DX Code 8 ICD-10 DX Code 9 ICD-10 DX Code 10 ICD-10 DX Code 11  \\\n",
       "0                  NaN              NaN               NaN               NaN   \n",
       "1                K76.0            E87.6           Z87.891             R04.0   \n",
       "2                Z79.4           Z86.73           Z87.891             I25.2   \n",
       "4               Z79.82              NaN               NaN               NaN   \n",
       "5                N17.9          L03.116           L03.115             M86.9   \n",
       "...                ...              ...               ...               ...   \n",
       "66344              NaN              NaN               NaN               NaN   \n",
       "66345              NaN              NaN               NaN               NaN   \n",
       "66346            I50.9            F32.9             F41.9            M19.90   \n",
       "66349           Z91.19           G47.33               NaN               NaN   \n",
       "66350              NaN              NaN               NaN               NaN   \n",
       "\n",
       "      ICD-10 DX Code 12  \n",
       "0                   NaN  \n",
       "1                K59.00  \n",
       "2               I82.511  \n",
       "4                   NaN  \n",
       "5                E11.51  \n",
       "...                 ...  \n",
       "66344               NaN  \n",
       "66345               NaN  \n",
       "66346           Z87.891  \n",
       "66349               NaN  \n",
       "66350               NaN  \n",
       "\n",
       "[57196 rows x 12 columns]"
      ]
     },
     "execution_count": 44,
     "metadata": {},
     "output_type": "execute_result"
    }
   ],
   "source": [
    "data.loc[:,['ICD-10-CM Prin Diag Code', 'ICD-10 DX Code 2', 'ICD-10 DX Code 3', 'ICD-10 DX Code 4', 'ICD-10 DX Code 5', \n",
    "            'ICD-10 DX Code 6', 'ICD-10 DX Code 7', 'ICD-10 DX Code 8', 'ICD-10 DX Code 9', 'ICD-10 DX Code 10', \n",
    "            'ICD-10 DX Code 11', 'ICD-10 DX Code 12']]"
   ]
  },
  {
   "cell_type": "markdown",
   "metadata": {},
   "source": [
    "We can see \".\" in each ICD Dx code. We need to remove them from the string"
   ]
  },
  {
   "cell_type": "code",
   "execution_count": 45,
   "metadata": {},
   "outputs": [],
   "source": [
    "ICD_List = ['ICD-10-CM Prin Diag Code', 'ICD-10 DX Code 2', 'ICD-10 DX Code 3', 'ICD-10 DX Code 4', 'ICD-10 DX Code 5', \n",
    "            'ICD-10 DX Code 6', 'ICD-10 DX Code 7', 'ICD-10 DX Code 8', 'ICD-10 DX Code 9', 'ICD-10 DX Code 10', \n",
    "            'ICD-10 DX Code 11', 'ICD-10 DX Code 12']\n",
    "for x in data[ICD_List]:\n",
    "        data[x] = data[x].str.replace(\".\",\"\")\n",
    "        "
   ]
  },
  {
   "cell_type": "code",
   "execution_count": 46,
   "metadata": {},
   "outputs": [
    {
     "data": {
      "text/html": [
       "<div>\n",
       "<style scoped>\n",
       "    .dataframe tbody tr th:only-of-type {\n",
       "        vertical-align: middle;\n",
       "    }\n",
       "\n",
       "    .dataframe tbody tr th {\n",
       "        vertical-align: top;\n",
       "    }\n",
       "\n",
       "    .dataframe thead th {\n",
       "        text-align: right;\n",
       "    }\n",
       "</style>\n",
       "<table border=\"1\" class=\"dataframe\">\n",
       "  <thead>\n",
       "    <tr style=\"text-align: right;\">\n",
       "      <th></th>\n",
       "      <th>ICD-10-CM Prin Diag Code</th>\n",
       "    </tr>\n",
       "  </thead>\n",
       "  <tbody>\n",
       "    <tr>\n",
       "      <th>0</th>\n",
       "      <td>D251</td>\n",
       "    </tr>\n",
       "    <tr>\n",
       "      <th>1</th>\n",
       "      <td>C9500</td>\n",
       "    </tr>\n",
       "    <tr>\n",
       "      <th>2</th>\n",
       "      <td>I82402</td>\n",
       "    </tr>\n",
       "    <tr>\n",
       "      <th>4</th>\n",
       "      <td>M1712</td>\n",
       "    </tr>\n",
       "    <tr>\n",
       "      <th>5</th>\n",
       "      <td>A419</td>\n",
       "    </tr>\n",
       "  </tbody>\n",
       "</table>\n",
       "</div>"
      ],
      "text/plain": [
       "  ICD-10-CM Prin Diag Code\n",
       "0                     D251\n",
       "1                    C9500\n",
       "2                   I82402\n",
       "4                    M1712\n",
       "5                     A419"
      ]
     },
     "execution_count": 46,
     "metadata": {},
     "output_type": "execute_result"
    }
   ],
   "source": [
    "data.loc[:,['ICD-10-CM Prin Diag Code']].head(5)"
   ]
  },
  {
   "cell_type": "markdown",
   "metadata": {},
   "source": [
    "### Now we need to Assign RIC code for each ICD Px code¶"
   ]
  },
  {
   "cell_type": "code",
   "execution_count": 53,
   "metadata": {},
   "outputs": [],
   "source": [
    "ICD_PX_Crosswalk = pd.read_excel (r'C:\\Users\\shaha\\OneDrive\\Documents\\QlikView&Python_Project\\A_RowData\\Crosswalks Tables.xlsx',\\\n",
    "                                  sheet_name = 'ICD Px Cross Walk')\n",
    "ICD_PX_Crosswalk = ICD_PX_Crosswalk.set_index('ICD Px 10')['RIC'].to_dict()"
   ]
  },
  {
   "cell_type": "code",
   "execution_count": 54,
   "metadata": {},
   "outputs": [],
   "source": [
    "original_ICD_PX_List = ['Prin Proc ICD-10-PCS Code', 'ICD-10-PCS Code-2', 'ICD-10-PCS Code-3', 'ICD-10-PCS Code-4',\n",
    "       'ICD-10-PCS Code-5']\n",
    "for ICD_PX in original_ICD_PX_List:\n",
    "    data[ICD_PX +\"PROC\"] = data[ICD_PX].map(ICD_PX_Crosswalk)"
   ]
  },
  {
   "cell_type": "code",
   "execution_count": 55,
   "metadata": {},
   "outputs": [
    {
     "data": {
      "text/plain": [
       "Index(['Entity Code & Name', 'Patient Account Number', 'Patient Med Rec No',\n",
       "       'Patient Class Desc', 'Admit Date', 'Discharge Date', 'LOS Acute',\n",
       "       'LOS ICU', 'Patient Age', 'Patient Zip', 'Financial Class Name',\n",
       "       'Primary Payor Plan Name', 'DRG Code', 'Discharge Status Code',\n",
       "       'Final Destination Name', 'ICD-10-CM Prin Diag Code',\n",
       "       'ICD-10 DX Code 2', 'ICD-10 DX Code 3', 'ICD-10 DX Code 4',\n",
       "       'ICD-10 DX Code 5', 'ICD-10 DX Code 6', 'ICD-10 DX Code 7',\n",
       "       'ICD-10 DX Code 8', 'ICD-10 DX Code 9', 'ICD-10 DX Code 10',\n",
       "       'ICD-10 DX Code 11', 'ICD-10 DX Code 12', 'Prin Proc ICD-10-PCS Code',\n",
       "       'ICD-10-PCS Code-2', 'ICD-10-PCS Code-3', 'ICD-10-PCS Code-4',\n",
       "       'ICD-10-PCS Code-5', 'ICD-10-PCS Code-6', 'ICD-10-PCS Code-7',\n",
       "       'ICD-10-PCS Code-8', 'ICD-10-PCS Code-9', 'ICD-10-PCS Code-10',\n",
       "       'ICD-10-PCS Code-11', 'ICD-10-PCS Code-12', 'PT Eval', 'OT Eval',\n",
       "       'SLP  Eval', 'First Therpy Date-PT', 'First Therpy Date-OT',\n",
       "       'First Therpy Date-SLP', 'DC Date_YY-Q', 'DC Date_YY-MM', 'DC Date_YY',\n",
       "       'Calc_LOS', 'Payor_Key_main', 'KHRS_Payor', 'KHRS_Dc_Disp',\n",
       "       'MS-DRG Name', 'Product Line', 'DRG_Weight', 'DRG_GMLOS', 'DRG_MDC',\n",
       "       'ICD-10-CM Prin Diag Codev0', 'ICD-10 DX Code 2v0',\n",
       "       'ICD-10 DX Code 3v0', 'ICD-10 DX Code 4v0', 'ICD-10 DX Code 5v0',\n",
       "       'ICD-10 DX Code 6v0', 'ICD-10 DX Code 7v0', 'ICD-10 DX Code 8v0',\n",
       "       'ICD-10 DX Code 9v0', 'ICD-10 DX Code 10v0', 'ICD-10 DX Code 11v0',\n",
       "       'ICD-10 DX Code 12v0', 'Prin Proc ICD-10-PCS CodePROC',\n",
       "       'ICD-10-PCS Code-2PROC', 'ICD-10-PCS Code-3PROC',\n",
       "       'ICD-10-PCS Code-4PROC', 'ICD-10-PCS Code-5PROC'],\n",
       "      dtype='object')"
      ]
     },
     "execution_count": 55,
     "metadata": {},
     "output_type": "execute_result"
    }
   ],
   "source": [
    "data.columns"
   ]
  },
  {
   "cell_type": "markdown",
   "metadata": {},
   "source": [
    "In this project, I have row data of patients of 3 hospitals, including allpayors and I try to assigned new Code whcih is applicable for Rehabilitation facilities. This is not a full version of the project due to the confidentiality of the data process. The follwoing is list of functions applied in this process:\n",
    "pd.read_excel()\n",
    ".head()\n",
    ".shape\n",
    ".info()\n",
    ".describe()\n",
    ".loc[] and conditinal filtering\n",
    ".value_counts()\n",
    ".nunique()\n",
    ".dt.year).astype(str) for time analysis\n",
    ".groupby(by=[]).agg({'':'').rename(columns={'': ''}).sort_values(by=[], ascending=(True,False)).reset_index()\n",
    ".read_excel()\n",
    ".drop()\n",
    ".set_index()[].to_dict()\n",
    ".map()\n",
    ".str.replace(\".\",\"\")\n",
    "User defined function and apply method\n",
    "np.where(mask,1,0)\n",
    "isY = lambda.... (work as countif in excel)\n",
    "for loop and If statement\n",
    "\n",
    "\n"
   ]
  },
  {
   "cell_type": "markdown",
   "metadata": {},
   "source": [
    "## We need to Mark patients with age 85+"
   ]
  },
  {
   "cell_type": "code",
   "execution_count": 56,
   "metadata": {},
   "outputs": [],
   "source": [
    "# flag patients with age more than 85 years old - function and if statement\n",
    "def pt_age_85 (x):\n",
    "    if x >= 85:\n",
    "        x = 1\n",
    "    else:\n",
    "        x = 0\n",
    "    return x\n",
    "\n",
    "data['Age_85>'] = data['Patient Age'].apply(pt_age_85)"
   ]
  },
  {
   "cell_type": "raw",
   "metadata": {},
   "source": [
    "# flag patients with age more than 85 years old - using where conditioning\n",
    "mask = data['Patient Age']>=85\n",
    "data['age_85>_v2'] = np.where(mask,1,0)"
   ]
  },
  {
   "cell_type": "code",
   "execution_count": 57,
   "metadata": {},
   "outputs": [],
   "source": [
    "data['MO'] = ''"
   ]
  },
  {
   "cell_type": "code",
   "execution_count": 58,
   "metadata": {},
   "outputs": [],
   "source": [
    "data['Comorbid'] = (data['Age_85>'] ==1) | (data['MO'] == 1)"
   ]
  },
  {
   "cell_type": "code",
   "execution_count": 59,
   "metadata": {},
   "outputs": [],
   "source": [
    "# it is the same as countif function in excel\n",
    "isY = lambda x:int(x==90)\n",
    "ric90 = lambda row: isY(row['Prin Proc ICD-10-PCS CodePROC']) + isY(row['ICD-10-PCS Code-2PROC'])+\\\n",
    "isY(row['ICD-10-PCS Code-3PROC'])+ isY(row['ICD-10-PCS Code-4PROC'])+ isY(row['ICD-10-PCS Code-5PROC'])\n",
    "\n",
    "data['90'] = data.apply(ric90, axis = 1)"
   ]
  },
  {
   "cell_type": "code",
   "execution_count": 60,
   "metadata": {},
   "outputs": [],
   "source": [
    "data['TF1'] = data['90']>1"
   ]
  },
  {
   "cell_type": "code",
   "execution_count": 61,
   "metadata": {},
   "outputs": [],
   "source": [
    "data['TF2'] = (data['90']==1) & (data['Comorbid'] == True )"
   ]
  },
  {
   "cell_type": "code",
   "execution_count": 62,
   "metadata": {},
   "outputs": [],
   "source": [
    "isY = lambda x:int(x==91)\n",
    "ric91 = lambda row: isY(row['Prin Proc ICD-10-PCS CodePROC']) + isY(row['ICD-10-PCS Code-2PROC'])+\\\n",
    "isY(row['ICD-10-PCS Code-3PROC'])+ isY(row['ICD-10-PCS Code-4PROC'])+ isY(row['ICD-10-PCS Code-5PROC'])\n",
    "\n",
    "data['91'] = data.apply(ric90, axis = 1)"
   ]
  },
  {
   "cell_type": "code",
   "execution_count": 63,
   "metadata": {},
   "outputs": [],
   "source": [
    "data['TF3'] = data['91']>1"
   ]
  },
  {
   "cell_type": "code",
   "execution_count": 64,
   "metadata": {},
   "outputs": [],
   "source": [
    "data['TF4'] = (data['91']==1) & (data['Comorbid'] == True )"
   ]
  },
  {
   "cell_type": "code",
   "execution_count": 65,
   "metadata": {},
   "outputs": [],
   "source": [
    "def proc(data):\n",
    "    if (data['Prin Proc ICD-10-PCS CodePROC'] ==10) | +(data['ICD-10-PCS Code-2PROC']==10) | \\\n",
    "       (data['ICD-10-PCS Code-3PROC']==10) | (data['ICD-10-PCS Code-4PROC']==10) | (data['ICD-10-PCS Code-5PROC']==10):\n",
    "        return 10\n",
    "    if (data['TF2'] == True) | (data['90'] > 1):\n",
    "        return 90\n",
    "    if (data['TF4'] == True) | (data['91'] > 1):\n",
    "        return 91\n",
    "    if (data['90'] == 1) | (data['91'] == 1):\n",
    "        return 8\n",
    "    else:\n",
    "        return \"NaN\"\n",
    "\n",
    "data[\"PROC\"] = data.apply(proc, axis = 1) "
   ]
  },
  {
   "cell_type": "markdown",
   "metadata": {},
   "source": [
    "### Now we need to Assign RIC code for each ICD Dx code"
   ]
  },
  {
   "cell_type": "markdown",
   "metadata": {},
   "source": [
    "We need to load the ICD Dx Crosswalk"
   ]
  },
  {
   "cell_type": "code",
   "execution_count": 67,
   "metadata": {},
   "outputs": [],
   "source": [
    "ICD_DX_Crosswalk = pd.read_excel (r'C:\\Users\\shaha\\OneDrive\\Documents\\QlikView&Python_Project\\A_RowData\\Crosswalks Tables.xlsx',\\\n",
    "                                  sheet_name = 'ICD Dx Cross Walk')"
   ]
  },
  {
   "cell_type": "code",
   "execution_count": 68,
   "metadata": {},
   "outputs": [
    {
     "data": {
      "text/html": [
       "<div>\n",
       "<style scoped>\n",
       "    .dataframe tbody tr th:only-of-type {\n",
       "        vertical-align: middle;\n",
       "    }\n",
       "\n",
       "    .dataframe tbody tr th {\n",
       "        vertical-align: top;\n",
       "    }\n",
       "\n",
       "    .dataframe thead th {\n",
       "        text-align: right;\n",
       "    }\n",
       "</style>\n",
       "<table border=\"1\" class=\"dataframe\">\n",
       "  <thead>\n",
       "    <tr style=\"text-align: right;\">\n",
       "      <th></th>\n",
       "      <th>ICD 10</th>\n",
       "      <th>ICD 10 Description</th>\n",
       "      <th>RIC</th>\n",
       "    </tr>\n",
       "  </thead>\n",
       "  <tbody>\n",
       "    <tr>\n",
       "      <th>0</th>\n",
       "      <td>I6000</td>\n",
       "      <td>Ntrm subarach hemorrhage from unsp carotid sip...</td>\n",
       "      <td>1</td>\n",
       "    </tr>\n",
       "    <tr>\n",
       "      <th>1</th>\n",
       "      <td>I6001</td>\n",
       "      <td>Ntrm subarach hemor from right carotid siphon ...</td>\n",
       "      <td>1</td>\n",
       "    </tr>\n",
       "    <tr>\n",
       "      <th>2</th>\n",
       "      <td>I6002</td>\n",
       "      <td>Ntrm subarach hemorrhage from left carotid sip...</td>\n",
       "      <td>1</td>\n",
       "    </tr>\n",
       "    <tr>\n",
       "      <th>3</th>\n",
       "      <td>I6010</td>\n",
       "      <td>Ntrm subarach hemorrhage from unsp middle cere...</td>\n",
       "      <td>1</td>\n",
       "    </tr>\n",
       "  </tbody>\n",
       "</table>\n",
       "</div>"
      ],
      "text/plain": [
       "  ICD 10                                 ICD 10 Description  RIC\n",
       "0  I6000  Ntrm subarach hemorrhage from unsp carotid sip...    1\n",
       "1  I6001  Ntrm subarach hemor from right carotid siphon ...    1\n",
       "2  I6002  Ntrm subarach hemorrhage from left carotid sip...    1\n",
       "3  I6010  Ntrm subarach hemorrhage from unsp middle cere...    1"
      ]
     },
     "execution_count": 68,
     "metadata": {},
     "output_type": "execute_result"
    }
   ],
   "source": [
    "ICD_DX_Crosswalk.head(4)"
   ]
  },
  {
   "cell_type": "code",
   "execution_count": 69,
   "metadata": {},
   "outputs": [],
   "source": [
    "#Create Dictionary from the data frame\n",
    "ICD_DX_Crosswalk = ICD_DX_Crosswalk.set_index(\"ICD 10\")['RIC'].to_dict()"
   ]
  },
  {
   "cell_type": "code",
   "execution_count": 70,
   "metadata": {},
   "outputs": [],
   "source": [
    "# data[\"Primary DX 1_RIC\"] = data[\"Primary DX 1\"].map(ICD_DX_Crosswalk)\n",
    "# data.columns"
   ]
  },
  {
   "cell_type": "code",
   "execution_count": 71,
   "metadata": {},
   "outputs": [],
   "source": [
    "original_ICD_List = ['ICD-10-CM Prin Diag Code', 'ICD-10 DX Code 2', 'ICD-10 DX Code 3', 'ICD-10 DX Code 4', 'ICD-10 DX Code 5']\n",
    "for ICD_Dx in original_ICD_List:\n",
    "    data[ICD_Dx +\"_RIC\"] = data[ICD_Dx].map(ICD_DX_Crosswalk)\n",
    "    "
   ]
  },
  {
   "cell_type": "code",
   "execution_count": 72,
   "metadata": {},
   "outputs": [],
   "source": [
    "replaceNARIC = ['ICD-10-CM Prin Diag Code_RIC']\n",
    "for a in replaceNARIC :\n",
    "    data[a] = data[a].fillna('N/A')"
   ]
  },
  {
   "cell_type": "code",
   "execution_count": 73,
   "metadata": {
    "scrolled": true
   },
   "outputs": [],
   "source": [
    "# data.loc[:,['Prin Proc ICD-10-PCS Code_RIC', 'ICD-10-PCS Code-2_RIC', 'ICD-10-PCS Code-3_RIC', 'ICD-10-PCS Code-4_RIC',\n",
    "#        'ICD-10-PCS Code-5_RIC']]"
   ]
  },
  {
   "cell_type": "markdown",
   "metadata": {},
   "source": [
    "# RIC 99 Assignment"
   ]
  },
  {
   "cell_type": "code",
   "execution_count": 74,
   "metadata": {},
   "outputs": [],
   "source": [
    "def RIC_99(data):\n",
    "    if data['ICD-10 DX Code 2_RIC'] == 1:\n",
    "        return 99\n",
    "    if data['ICD-10 DX Code 3_RIC'] == 1:\n",
    "        return 99\n",
    "    if data['ICD-10 DX Code 4_RIC'] == 1:\n",
    "        return 99\n",
    "    if data['ICD-10 DX Code 5_RIC'] == 1:\n",
    "        return 99\n",
    "    else:\n",
    "        return \"No RIC 99\"\n",
    "data[\"RIC_99\"] = data.apply(RIC_99, axis=1)"
   ]
  },
  {
   "cell_type": "markdown",
   "metadata": {},
   "source": [
    "# RIC Selection -  Step 1/3"
   ]
  },
  {
   "cell_type": "code",
   "execution_count": 75,
   "metadata": {},
   "outputs": [
    {
     "data": {
      "text/plain": [
       "0        N/A\n",
       "1         20\n",
       "2         20\n",
       "4         12\n",
       "5        N/A\n",
       "        ... \n",
       "66344     14\n",
       "66345    N/A\n",
       "66346     20\n",
       "66349    N/A\n",
       "66350    N/A\n",
       "Name: ICD-10-CM Prin Diag Code_RIC, Length: 57196, dtype: object"
      ]
     },
     "execution_count": 75,
     "metadata": {},
     "output_type": "execute_result"
    }
   ],
   "source": [
    "data['ICD-10-CM Prin Diag Code_RIC']"
   ]
  },
  {
   "cell_type": "code",
   "execution_count": 76,
   "metadata": {},
   "outputs": [],
   "source": [
    "def pre_final_ric(x):\n",
    "    if x['ICD-10-CM Prin Diag Code_RIC'] == 1:\n",
    "        return x['ICD-10-CM Prin Diag Code_RIC']\n",
    "    if x[\"RIC_99\"] == 99:\n",
    "        return x[\"RIC_99\"]\n",
    "    if (x['PROC'] in [8,90,91,10]) & (x[\"RIC_99\"] != 99) & (x['ICD-10-CM Prin Diag Code_RIC'] != 1):\n",
    "        return x['PROC']\n",
    "    if (x['PROC'] in [8,90,91,10]) & (x[\"RIC_99\"] == 99) & (x['ICD-10-CM Prin Diag Code_RIC'] != 1) :\n",
    "        return x[\"RIC_99\"]\n",
    "    if x['ICD-10-CM Prin Diag Code_RIC'] != 'NaN':\n",
    "        return x['ICD-10-CM Prin Diag Code_RIC']\n",
    "    else:\n",
    "        return \"No RIC\"\n",
    "    \n",
    "data['RIC_S1a'] = data.apply(pre_final_ric, axis = 1)"
   ]
  },
  {
   "cell_type": "markdown",
   "metadata": {},
   "source": [
    "## Asign RIC 20 for IRF DC Pt with No RIC"
   ]
  },
  {
   "cell_type": "code",
   "execution_count": 77,
   "metadata": {},
   "outputs": [],
   "source": [
    "def ric_S1b(data):\n",
    "    if  (data['RIC_S1a'] == 'N/A') & (data[\"KHRS_Dc_Disp\"] =='IRF'):\n",
    "        return 20\n",
    "    else:\n",
    "        return data['RIC_S1a']\n",
    "\n",
    "data['RIC_S1b'] = data.apply(ric_S1b, axis = 1)"
   ]
  },
  {
   "cell_type": "code",
   "execution_count": 78,
   "metadata": {
    "scrolled": true
   },
   "outputs": [],
   "source": [
    "# data.loc[((data['RIC_S1a'] == 'N/A') & (data[\"KHRS_Dc_Disp\"] =='IRF')),:]"
   ]
  },
  {
   "cell_type": "markdown",
   "metadata": {},
   "source": [
    "# Presumptive RIC Code "
   ]
  },
  {
   "cell_type": "code",
   "execution_count": 80,
   "metadata": {},
   "outputs": [],
   "source": [
    "presum = pd.read_excel (r'C:\\Users\\shaha\\OneDrive\\Documents\\QlikView&Python_Project\\A_RowData\\Crosswalks Tables.xlsx',\\\n",
    "                                  sheet_name = 'Presump_Code')"
   ]
  },
  {
   "cell_type": "code",
   "execution_count": 81,
   "metadata": {},
   "outputs": [
    {
     "data": {
      "text/plain": [
       "array([ 1,  2,  3,  4,  5,  6,  7,  9, 10, 11, 13, 15, 16, 19, 20, 21],\n",
       "      dtype=int64)"
      ]
     },
     "execution_count": 81,
     "metadata": {},
     "output_type": "execute_result"
    }
   ],
   "source": [
    "presum.RIC.unique()"
   ]
  },
  {
   "cell_type": "code",
   "execution_count": 82,
   "metadata": {},
   "outputs": [],
   "source": [
    "presum_dict  = presum.set_index('Presum Code')['RIC'].to_dict()"
   ]
  },
  {
   "cell_type": "code",
   "execution_count": 83,
   "metadata": {},
   "outputs": [],
   "source": [
    "listOfDX_RIC = ['ICD-10 DX Code 2', 'ICD-10 DX Code 3', 'ICD-10 DX Code 4','ICD-10 DX Code 5'] \n",
    "for a in listOfDX_RIC:\n",
    "    data[a+\"presum\"] = data[a].map(presum_dict)"
   ]
  },
  {
   "cell_type": "code",
   "execution_count": 84,
   "metadata": {},
   "outputs": [],
   "source": [
    "\n",
    "isY = lambda x:int(x in [ 1,  2,  3,  4,  5,  6,  7,  9, 10, 11, 13, 15, 16, 19, 20, 21])\n",
    "Any_Presume = lambda row: isY(row['ICD-10 DX Code 2presum']) + isY(row['ICD-10 DX Code 3presum'])+ isY(row['ICD-10 DX Code 4presum'])+ isY(row['ICD-10-PCS Code-4PROC'])+ isY(row['ICD-10 DX Code 5presum'])\n",
    "data['Any Presumptive Code'] = data.apply(Any_Presume, axis = 1)\n"
   ]
  },
  {
   "cell_type": "code",
   "execution_count": 85,
   "metadata": {},
   "outputs": [],
   "source": [
    "replaceNA = ['ICD-10 DX Code 2presum','ICD-10 DX Code 3presum', 'ICD-10 DX Code 4presum', 'ICD-10 DX Code 5presum']\n",
    "for x in replaceNA:\n",
    "    data[x] = data[x].fillna('N/A')"
   ]
  },
  {
   "cell_type": "code",
   "execution_count": 86,
   "metadata": {},
   "outputs": [],
   "source": [
    "def presumptive_code(Y):\n",
    "    if Y['ICD-10 DX Code 2presum'] != \"N/A\":\n",
    "        return Y['ICD-10 DX Code 2presum']\n",
    "    if Y['ICD-10 DX Code 2presum'] == 'N/A' and Y['ICD-10 DX Code 3presum'] != \"N/A\":\n",
    "        return Y['ICD-10 DX Code 3presum']\n",
    "    if Y['ICD-10 DX Code 2presum'] == 'N/A' and Y['ICD-10 DX Code 3presum'] == \"N/A\" and Y['ICD-10 DX Code 4presum'] != \"N/A\":\n",
    "        return Y['ICD-10 DX Code 4presum']\n",
    "    if Y['ICD-10 DX Code 2presum'] == 'N/A' and Y['ICD-10 DX Code 3presum'] == \"N/A\" and Y['ICD-10 DX Code 4presum'] == \"N/A\" and Y['ICD-10 DX Code 5presum'] != \"N/A\":\n",
    "        return Y['ICD-10 DX Code 5presum']\n",
    "    else:\n",
    "        return np.nan\n",
    "\n",
    "data['Presumptive'] = data.apply(presumptive_code, axis = 1)"
   ]
  },
  {
   "cell_type": "code",
   "execution_count": 87,
   "metadata": {
    "scrolled": true
   },
   "outputs": [],
   "source": [
    "def ric_s2 (data):\n",
    "    if (data['Any Presumptive Code'] > 0) & ((data['RIC_S1b']==20) |(data['RIC_S1b']=='N/A')):\n",
    "        return data['Presumptive']\n",
    "    else:\n",
    "        return data['RIC_S1b']\n",
    "\n",
    "data['RIC_S2'] = data.apply(ric_s2, axis = 1)"
   ]
  },
  {
   "cell_type": "code",
   "execution_count": 89,
   "metadata": {},
   "outputs": [
    {
     "data": {
      "text/html": [
       "<div>\n",
       "<style scoped>\n",
       "    .dataframe tbody tr th:only-of-type {\n",
       "        vertical-align: middle;\n",
       "    }\n",
       "\n",
       "    .dataframe tbody tr th {\n",
       "        vertical-align: top;\n",
       "    }\n",
       "\n",
       "    .dataframe thead th {\n",
       "        text-align: right;\n",
       "    }\n",
       "</style>\n",
       "<table border=\"1\" class=\"dataframe\">\n",
       "  <thead>\n",
       "    <tr style=\"text-align: right;\">\n",
       "      <th></th>\n",
       "      <th>RIC Code</th>\n",
       "      <th>RIC Description</th>\n",
       "      <th>RIC Group</th>\n",
       "    </tr>\n",
       "  </thead>\n",
       "  <tbody>\n",
       "    <tr>\n",
       "      <th>0</th>\n",
       "      <td>1</td>\n",
       "      <td>Ric 1 Stroke - Primary</td>\n",
       "      <td>Neuro</td>\n",
       "    </tr>\n",
       "    <tr>\n",
       "      <th>1</th>\n",
       "      <td>99</td>\n",
       "      <td>Ric 1 Stroke - Secondary</td>\n",
       "      <td>Neuro</td>\n",
       "    </tr>\n",
       "    <tr>\n",
       "      <th>2</th>\n",
       "      <td>2</td>\n",
       "      <td>Ric 2 BI - Traumatic</td>\n",
       "      <td>Neuro</td>\n",
       "    </tr>\n",
       "    <tr>\n",
       "      <th>3</th>\n",
       "      <td>3</td>\n",
       "      <td>Ric 3 BI - NonTraumatic</td>\n",
       "      <td>Neuro</td>\n",
       "    </tr>\n",
       "    <tr>\n",
       "      <th>4</th>\n",
       "      <td>4</td>\n",
       "      <td>Ric 4 SCI - Traumatic</td>\n",
       "      <td>Neuro</td>\n",
       "    </tr>\n",
       "    <tr>\n",
       "      <th>5</th>\n",
       "      <td>5</td>\n",
       "      <td>Ric 5 SCI - NonTraumatic</td>\n",
       "      <td>Neuro</td>\n",
       "    </tr>\n",
       "    <tr>\n",
       "      <th>6</th>\n",
       "      <td>6</td>\n",
       "      <td>Ric 6 Neurological</td>\n",
       "      <td>Neuro</td>\n",
       "    </tr>\n",
       "    <tr>\n",
       "      <th>7</th>\n",
       "      <td>7</td>\n",
       "      <td>Ric 7 Fracture</td>\n",
       "      <td>Ortho</td>\n",
       "    </tr>\n",
       "    <tr>\n",
       "      <th>8</th>\n",
       "      <td>8</td>\n",
       "      <td>Ric 8 Joint Rep (Other)</td>\n",
       "      <td>Ortho</td>\n",
       "    </tr>\n",
       "    <tr>\n",
       "      <th>9</th>\n",
       "      <td>90</td>\n",
       "      <td>Ric 8 Bilat - THR</td>\n",
       "      <td>Ortho</td>\n",
       "    </tr>\n",
       "    <tr>\n",
       "      <th>10</th>\n",
       "      <td>91</td>\n",
       "      <td>Ric 8 Bilat - TKR</td>\n",
       "      <td>Ortho</td>\n",
       "    </tr>\n",
       "    <tr>\n",
       "      <th>11</th>\n",
       "      <td>9</td>\n",
       "      <td>Ric 9 Other Ortho</td>\n",
       "      <td>Ortho</td>\n",
       "    </tr>\n",
       "    <tr>\n",
       "      <th>12</th>\n",
       "      <td>10</td>\n",
       "      <td>Ric 10 LE Amputation</td>\n",
       "      <td>Medically Complex</td>\n",
       "    </tr>\n",
       "    <tr>\n",
       "      <th>13</th>\n",
       "      <td>11</td>\n",
       "      <td>Ric 11 Other Amputation</td>\n",
       "      <td>Medically Complex</td>\n",
       "    </tr>\n",
       "    <tr>\n",
       "      <th>14</th>\n",
       "      <td>12</td>\n",
       "      <td>Ric 12 Osteoarthritis</td>\n",
       "      <td>Ortho</td>\n",
       "    </tr>\n",
       "    <tr>\n",
       "      <th>15</th>\n",
       "      <td>13</td>\n",
       "      <td>Ric 13 Rheumatoid</td>\n",
       "      <td>Ortho</td>\n",
       "    </tr>\n",
       "    <tr>\n",
       "      <th>16</th>\n",
       "      <td>14</td>\n",
       "      <td>Ric 14 Cardiac</td>\n",
       "      <td>Medically Complex</td>\n",
       "    </tr>\n",
       "    <tr>\n",
       "      <th>17</th>\n",
       "      <td>15</td>\n",
       "      <td>Ric 15 Pulmonary</td>\n",
       "      <td>Medically Complex</td>\n",
       "    </tr>\n",
       "    <tr>\n",
       "      <th>18</th>\n",
       "      <td>16</td>\n",
       "      <td>Ric 16 Pain Syndrome</td>\n",
       "      <td>Medically Complex</td>\n",
       "    </tr>\n",
       "    <tr>\n",
       "      <th>19</th>\n",
       "      <td>19</td>\n",
       "      <td>Ric 19 Guillain - Barre</td>\n",
       "      <td>Neuro</td>\n",
       "    </tr>\n",
       "    <tr>\n",
       "      <th>20</th>\n",
       "      <td>20</td>\n",
       "      <td>Ric 20 Miscellaneous</td>\n",
       "      <td>Medically Complex</td>\n",
       "    </tr>\n",
       "    <tr>\n",
       "      <th>21</th>\n",
       "      <td>21</td>\n",
       "      <td>Ric 21 Burns</td>\n",
       "      <td>Medically Complex</td>\n",
       "    </tr>\n",
       "    <tr>\n",
       "      <th>22</th>\n",
       "      <td>No RIC Match</td>\n",
       "      <td>No RIC Match</td>\n",
       "      <td>No RIC Match</td>\n",
       "    </tr>\n",
       "  </tbody>\n",
       "</table>\n",
       "</div>"
      ],
      "text/plain": [
       "        RIC Code           RIC Description          RIC Group\n",
       "0              1    Ric 1 Stroke - Primary              Neuro\n",
       "1             99  Ric 1 Stroke - Secondary              Neuro\n",
       "2              2      Ric 2 BI - Traumatic              Neuro\n",
       "3              3   Ric 3 BI - NonTraumatic              Neuro\n",
       "4              4     Ric 4 SCI - Traumatic              Neuro\n",
       "5              5  Ric 5 SCI - NonTraumatic              Neuro\n",
       "6              6        Ric 6 Neurological              Neuro\n",
       "7              7            Ric 7 Fracture              Ortho\n",
       "8              8   Ric 8 Joint Rep (Other)              Ortho\n",
       "9             90         Ric 8 Bilat - THR              Ortho\n",
       "10            91         Ric 8 Bilat - TKR              Ortho\n",
       "11             9         Ric 9 Other Ortho              Ortho\n",
       "12            10      Ric 10 LE Amputation  Medically Complex\n",
       "13            11   Ric 11 Other Amputation  Medically Complex\n",
       "14            12     Ric 12 Osteoarthritis              Ortho\n",
       "15            13         Ric 13 Rheumatoid              Ortho\n",
       "16            14            Ric 14 Cardiac  Medically Complex\n",
       "17            15          Ric 15 Pulmonary  Medically Complex\n",
       "18            16      Ric 16 Pain Syndrome  Medically Complex\n",
       "19            19   Ric 19 Guillain - Barre              Neuro\n",
       "20            20      Ric 20 Miscellaneous  Medically Complex\n",
       "21            21              Ric 21 Burns  Medically Complex\n",
       "22  No RIC Match              No RIC Match       No RIC Match"
      ]
     },
     "execution_count": 89,
     "metadata": {},
     "output_type": "execute_result"
    }
   ],
   "source": [
    "RIC_Desc = pd.read_excel(r'C:\\Users\\shaha\\OneDrive\\Documents\\QlikView&Python_Project\\A_RowData\\Crosswalks Tables.xlsx', sheet_name = 'RIC Desc' )\n",
    "\n",
    "RIC_Desc"
   ]
  },
  {
   "cell_type": "code",
   "execution_count": 90,
   "metadata": {},
   "outputs": [],
   "source": [
    "RIC_Description = RIC_Desc.set_index(\"RIC Code\")['RIC Description'].to_dict()"
   ]
  },
  {
   "cell_type": "code",
   "execution_count": 91,
   "metadata": {},
   "outputs": [],
   "source": [
    "RIC_Group =       RIC_Desc.set_index(\"RIC Code\")['RIC Group'].to_dict()"
   ]
  },
  {
   "cell_type": "code",
   "execution_count": 92,
   "metadata": {},
   "outputs": [],
   "source": [
    "data['Final_RIC_Desc'] = data['RIC_S2'].map(RIC_Description)\n",
    "# np.where(inpatient['RIC_S2']!='N/A',inpatient['RIC_S2'],\"No RIC Match\")"
   ]
  },
  {
   "cell_type": "code",
   "execution_count": 93,
   "metadata": {},
   "outputs": [],
   "source": [
    "data.loc[data['RIC_S2']=='N/A', 'Final_RIC_Desc'] = 'No RIC Match'\n",
    "data.loc[data['RIC_S2']!='N/A', 'Final_RIC_Desc'] = data['Final_RIC_Desc']"
   ]
  },
  {
   "cell_type": "code",
   "execution_count": 94,
   "metadata": {},
   "outputs": [],
   "source": [
    "data['Final_RIC_Group'] = data['RIC_S2'].map(RIC_Group)\n",
    "# np.where(inpatient['RIC_S2']!='N/A',inpatient['RIC_S2'],\"No RIC Match\")"
   ]
  },
  {
   "cell_type": "code",
   "execution_count": 95,
   "metadata": {},
   "outputs": [],
   "source": [
    "data.loc[data['RIC_S2']=='N/A', 'Final_RIC_Group'] = 'No RIC Match'\n",
    "data.loc[data['RIC_S2']!='N/A', 'Final_RIC_Group'] = data['Final_RIC_Group']"
   ]
  },
  {
   "cell_type": "code",
   "execution_count": 96,
   "metadata": {},
   "outputs": [
    {
     "data": {
      "text/html": [
       "<div>\n",
       "<style scoped>\n",
       "    .dataframe tbody tr th:only-of-type {\n",
       "        vertical-align: middle;\n",
       "    }\n",
       "\n",
       "    .dataframe tbody tr th {\n",
       "        vertical-align: top;\n",
       "    }\n",
       "\n",
       "    .dataframe thead th {\n",
       "        text-align: right;\n",
       "    }\n",
       "</style>\n",
       "<table border=\"1\" class=\"dataframe\">\n",
       "  <thead>\n",
       "    <tr style=\"text-align: right;\">\n",
       "      <th></th>\n",
       "      <th>Final_RIC_Desc</th>\n",
       "      <th>Final_RIC_Group</th>\n",
       "    </tr>\n",
       "  </thead>\n",
       "  <tbody>\n",
       "    <tr>\n",
       "      <th>0</th>\n",
       "      <td>No RIC Match</td>\n",
       "      <td>No RIC Match</td>\n",
       "    </tr>\n",
       "    <tr>\n",
       "      <th>1</th>\n",
       "      <td>Ric 20 Miscellaneous</td>\n",
       "      <td>Medically Complex</td>\n",
       "    </tr>\n",
       "    <tr>\n",
       "      <th>2</th>\n",
       "      <td>Ric 20 Miscellaneous</td>\n",
       "      <td>Medically Complex</td>\n",
       "    </tr>\n",
       "    <tr>\n",
       "      <th>4</th>\n",
       "      <td>Ric 12 Osteoarthritis</td>\n",
       "      <td>Ortho</td>\n",
       "    </tr>\n",
       "    <tr>\n",
       "      <th>5</th>\n",
       "      <td>No RIC Match</td>\n",
       "      <td>No RIC Match</td>\n",
       "    </tr>\n",
       "    <tr>\n",
       "      <th>...</th>\n",
       "      <td>...</td>\n",
       "      <td>...</td>\n",
       "    </tr>\n",
       "    <tr>\n",
       "      <th>66344</th>\n",
       "      <td>Ric 14 Cardiac</td>\n",
       "      <td>Medically Complex</td>\n",
       "    </tr>\n",
       "    <tr>\n",
       "      <th>66345</th>\n",
       "      <td>No RIC Match</td>\n",
       "      <td>No RIC Match</td>\n",
       "    </tr>\n",
       "    <tr>\n",
       "      <th>66346</th>\n",
       "      <td>Ric 20 Miscellaneous</td>\n",
       "      <td>Medically Complex</td>\n",
       "    </tr>\n",
       "    <tr>\n",
       "      <th>66349</th>\n",
       "      <td>No RIC Match</td>\n",
       "      <td>No RIC Match</td>\n",
       "    </tr>\n",
       "    <tr>\n",
       "      <th>66350</th>\n",
       "      <td>No RIC Match</td>\n",
       "      <td>No RIC Match</td>\n",
       "    </tr>\n",
       "  </tbody>\n",
       "</table>\n",
       "<p>57196 rows × 2 columns</p>\n",
       "</div>"
      ],
      "text/plain": [
       "              Final_RIC_Desc    Final_RIC_Group\n",
       "0               No RIC Match       No RIC Match\n",
       "1       Ric 20 Miscellaneous  Medically Complex\n",
       "2       Ric 20 Miscellaneous  Medically Complex\n",
       "4      Ric 12 Osteoarthritis              Ortho\n",
       "5               No RIC Match       No RIC Match\n",
       "...                      ...                ...\n",
       "66344         Ric 14 Cardiac  Medically Complex\n",
       "66345           No RIC Match       No RIC Match\n",
       "66346   Ric 20 Miscellaneous  Medically Complex\n",
       "66349           No RIC Match       No RIC Match\n",
       "66350           No RIC Match       No RIC Match\n",
       "\n",
       "[57196 rows x 2 columns]"
      ]
     },
     "execution_count": 96,
     "metadata": {},
     "output_type": "execute_result"
    }
   ],
   "source": [
    "data.loc[:,['Final_RIC_Desc', 'Final_RIC_Group']]"
   ]
  },
  {
   "cell_type": "code",
   "execution_count": 97,
   "metadata": {
    "scrolled": true
   },
   "outputs": [
    {
     "data": {
      "text/plain": [
       "Inpatient    57196\n",
       "Name: Patient Class Desc, dtype: int64"
      ]
     },
     "execution_count": 97,
     "metadata": {},
     "output_type": "execute_result"
    }
   ],
   "source": [
    "data['Patient Class Desc'].value_counts()"
   ]
  },
  {
   "cell_type": "markdown",
   "metadata": {},
   "source": [
    "The data contains pt records for Rehab, Hospice and Surgery. We should exclude them from the data for our analysis."
   ]
  },
  {
   "cell_type": "code",
   "execution_count": 98,
   "metadata": {
    "scrolled": true
   },
   "outputs": [],
   "source": [
    "inpatient = data.loc[data['Patient Class Desc'] == 'Inpatient']"
   ]
  },
  {
   "cell_type": "code",
   "execution_count": 99,
   "metadata": {},
   "outputs": [],
   "source": [
    "# conditions= [inpatient['RIC_S2'] == 'N/A', inpatient['RIC_S2'] != 'N/A']\n",
    "\n",
    "# choices = ['No RIC Match', inpatient['RIC_S2']]\n",
    "# inpatient['Final_RIC_Desc'] = np.select(conditions, choices, default='N/A')"
   ]
  },
  {
   "cell_type": "code",
   "execution_count": 100,
   "metadata": {},
   "outputs": [],
   "source": [
    "# def final_ric_group(x):\n",
    "#     if x['RIC_S2'] == 'N/A':\n",
    "#         return 'No RIC Match'\n",
    "#     if x['RIC_S2'] in [1,99,2,3,4,5,6,19]:\n",
    "#         return 'Neuro'\n",
    "#     if x['RIC_S2'] in [7,8,9,90,91,12,13]:\n",
    "#         return 'Ortho'    \n",
    "#     if x['RIC_S2'] in [10,11,14,15,16,20,21]:\n",
    "#         return 'Med Complx'       \n",
    "    \n",
    "# inpatient['Final_RIC_Group'] = inpatient.apply(final_ric_group, axis = 1)"
   ]
  },
  {
   "cell_type": "code",
   "execution_count": 101,
   "metadata": {},
   "outputs": [],
   "source": [
    "# inpatient['Final_RIC_Desc'].head(10)"
   ]
  },
  {
   "cell_type": "raw",
   "metadata": {},
   "source": [
    "inpatient.loc[inpatient['RIC_S2'] == 'N/A', ['Final_RIC_Desc']]= \"No RIC Match\""
   ]
  },
  {
   "cell_type": "raw",
   "metadata": {},
   "source": [
    "def RIC_Desc(f):\n",
    "    if f['RIC_S2'] == 'N/A':\n",
    "        return \"NO RIC Match\"\n",
    "    else:\n",
    "        return f['RIC_S2'].map(RIC_Description)\n",
    "\n",
    "inpatient['Final_RIC_Desc'] = inpatient.apply(RIC_Desc, axis = 1)\n"
   ]
  },
  {
   "cell_type": "code",
   "execution_count": 102,
   "metadata": {},
   "outputs": [],
   "source": [
    "# # for x in data['Final RIC_S3']:\n",
    "# inpatient['Final_RIC_Group2'] = inpatient['RIC_S2'].map(RIC_Group)\n",
    "# # mask = inpatient['Final_RIC_Group2'] != 'NaN'\n",
    "# inpatient['Final_RIC_Group3'] = np.where(inpatient['Final_RIC_Group2'] ==\"\", \"No RIC Match\", inpatient['Final_RIC_Group2'])\n",
    "# inpatient['Final_RIC_Group3']"
   ]
  },
  {
   "cell_type": "code",
   "execution_count": 103,
   "metadata": {},
   "outputs": [],
   "source": [
    "# Assign ID for each raw\n",
    "inpatient[\"Counter\"] = range(len(inpatient))"
   ]
  },
  {
   "cell_type": "code",
   "execution_count": 104,
   "metadata": {},
   "outputs": [],
   "source": [
    "#  assign count 1\n",
    "inpatient['Count'] = 1"
   ]
  },
  {
   "cell_type": "code",
   "execution_count": 105,
   "metadata": {},
   "outputs": [
    {
     "data": {
      "text/plain": [
       "(57196, 103)"
      ]
     },
     "execution_count": 105,
     "metadata": {},
     "output_type": "execute_result"
    }
   ],
   "source": [
    "inpatient.shape"
   ]
  },
  {
   "cell_type": "markdown",
   "metadata": {},
   "source": [
    "At the begining, we had ~66000 patient records, but at the end we have 57196 patinent records. \n",
    "THe differece is pt age 0-16, new born, DRGs relevant to OB, NewBorn, Pt at Rehab, Hospice and Surgery Center."
   ]
  },
  {
   "cell_type": "code",
   "execution_count": 107,
   "metadata": {},
   "outputs": [],
   "source": [
    "# we export inpatient data with age 17+ and exlucing OB, NewBorn for Post Acute Care Analysis!\n",
    "saved_URL = (r'C:\\Users\\shaha\\OneDrive\\Documents\\QlikView&Python_Project\\Python Project\\Inp Data - first outcome.xlsx')\n",
    "inpatient.to_excel (saved_URL)"
   ]
  },
  {
   "cell_type": "code",
   "execution_count": null,
   "metadata": {},
   "outputs": [],
   "source": []
  },
  {
   "cell_type": "code",
   "execution_count": null,
   "metadata": {},
   "outputs": [],
   "source": []
  },
  {
   "cell_type": "code",
   "execution_count": null,
   "metadata": {},
   "outputs": [],
   "source": []
  }
 ],
 "metadata": {
  "kernelspec": {
   "display_name": "Python 3",
   "language": "python",
   "name": "python3"
  },
  "language_info": {
   "codemirror_mode": {
    "name": "ipython",
    "version": 3
   },
   "file_extension": ".py",
   "mimetype": "text/x-python",
   "name": "python",
   "nbconvert_exporter": "python",
   "pygments_lexer": "ipython3",
   "version": "3.8.3"
  }
 },
 "nbformat": 4,
 "nbformat_minor": 2
}
